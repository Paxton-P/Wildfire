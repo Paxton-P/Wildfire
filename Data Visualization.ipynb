{
 "cells": [
  {
   "cell_type": "markdown",
   "id": "8f4418a5",
   "metadata": {},
   "source": [
    "# Term Project: Wildfires"
   ]
  },
  {
   "cell_type": "markdown",
   "id": "5667b119",
   "metadata": {},
   "source": [
    "### Predictive Analytics\n",
    "What areas do we predict the highest likelihood of fires in the following years? We will use the following [wildfire dataset](https://www.kaggle.com/datasets/rtatman/188-million-us-wildfires) to predict where a wildfire is most likely to happen in the coming years."
   ]
  },
  {
   "cell_type": "markdown",
   "id": "1562dc0b",
   "metadata": {},
   "source": [
    "### Import necessary libraries"
   ]
  },
  {
   "cell_type": "code",
   "execution_count": 1,
   "id": "76cd1169-2c4e-4d79-8cf2-a6d92396241a",
   "metadata": {},
   "outputs": [],
   "source": [
    "import sqlite3\n",
    "import pandas as pd\n",
    "import matplotlib.pyplot as plt\n",
    "import seaborn as sns\n",
    "import numpy as np\n",
    "# import geopandas as gpd\n",
    "# from shapely.geometry import Point\n",
    "# import matplotlib.patches as mpatches\n",
    "# from colour import Color\n",
    "# from sklearn.neighbors import KernelDensity"
   ]
  },
  {
   "cell_type": "markdown",
   "id": "bee21f07",
   "metadata": {},
   "source": [
    "## Read data from sqlite file"
   ]
  },
  {
   "cell_type": "code",
   "execution_count": 2,
   "id": "e9b58335",
   "metadata": {},
   "outputs": [],
   "source": [
    "con = sqlite3.connect(\"../FPA_FOD_20170508.sqlite\")"
   ]
  },
  {
   "cell_type": "code",
   "execution_count": 3,
   "id": "7e792e01-cdc5-4008-8f28-f972b0f086da",
   "metadata": {},
   "outputs": [],
   "source": [
    "wildfires = pd.read_sql_query('SELECT * FROM Fires', con)"
   ]
  },
  {
   "cell_type": "markdown",
   "id": "a2be85aa",
   "metadata": {},
   "source": [
    "## Clean Wildfire Data"
   ]
  },
  {
   "cell_type": "markdown",
   "id": "98c6aa69",
   "metadata": {},
   "source": [
    "### Display first 5 rows and columns"
   ]
  },
  {
   "cell_type": "code",
   "execution_count": 4,
   "id": "8871979d",
   "metadata": {},
   "outputs": [
    {
     "name": "stdout",
     "output_type": "stream",
     "text": [
      "Rows 1880465 X Columns 39\n"
     ]
    }
   ],
   "source": [
    "print(f\"Rows {wildfires.shape[0]} X Columns {wildfires.shape[1]}\")"
   ]
  },
  {
   "cell_type": "code",
   "execution_count": 5,
   "id": "ce34a221-1336-4042-9749-2549e5592f4c",
   "metadata": {},
   "outputs": [
    {
     "data": {
      "text/html": [
       "<div>\n",
       "<style scoped>\n",
       "    .dataframe tbody tr th:only-of-type {\n",
       "        vertical-align: middle;\n",
       "    }\n",
       "\n",
       "    .dataframe tbody tr th {\n",
       "        vertical-align: top;\n",
       "    }\n",
       "\n",
       "    .dataframe thead th {\n",
       "        text-align: right;\n",
       "    }\n",
       "</style>\n",
       "<table border=\"1\" class=\"dataframe\">\n",
       "  <thead>\n",
       "    <tr style=\"text-align: right;\">\n",
       "      <th></th>\n",
       "      <th>OBJECTID</th>\n",
       "      <th>FOD_ID</th>\n",
       "      <th>FPA_ID</th>\n",
       "      <th>SOURCE_SYSTEM_TYPE</th>\n",
       "      <th>SOURCE_SYSTEM</th>\n",
       "      <th>NWCG_REPORTING_AGENCY</th>\n",
       "      <th>NWCG_REPORTING_UNIT_ID</th>\n",
       "      <th>NWCG_REPORTING_UNIT_NAME</th>\n",
       "      <th>SOURCE_REPORTING_UNIT</th>\n",
       "      <th>SOURCE_REPORTING_UNIT_NAME</th>\n",
       "      <th>...</th>\n",
       "      <th>FIRE_SIZE_CLASS</th>\n",
       "      <th>LATITUDE</th>\n",
       "      <th>LONGITUDE</th>\n",
       "      <th>OWNER_CODE</th>\n",
       "      <th>OWNER_DESCR</th>\n",
       "      <th>STATE</th>\n",
       "      <th>COUNTY</th>\n",
       "      <th>FIPS_CODE</th>\n",
       "      <th>FIPS_NAME</th>\n",
       "      <th>Shape</th>\n",
       "    </tr>\n",
       "  </thead>\n",
       "  <tbody>\n",
       "    <tr>\n",
       "      <th>0</th>\n",
       "      <td>1</td>\n",
       "      <td>1</td>\n",
       "      <td>FS-1418826</td>\n",
       "      <td>FED</td>\n",
       "      <td>FS-FIRESTAT</td>\n",
       "      <td>FS</td>\n",
       "      <td>USCAPNF</td>\n",
       "      <td>Plumas National Forest</td>\n",
       "      <td>0511</td>\n",
       "      <td>Plumas National Forest</td>\n",
       "      <td>...</td>\n",
       "      <td>A</td>\n",
       "      <td>40.036944</td>\n",
       "      <td>-121.005833</td>\n",
       "      <td>5.0</td>\n",
       "      <td>USFS</td>\n",
       "      <td>CA</td>\n",
       "      <td>63</td>\n",
       "      <td>063</td>\n",
       "      <td>Plumas</td>\n",
       "      <td>b'\\x00\\x01\\xad\\x10\\x00\\x00\\xe8d\\xc2\\x92_@^\\xc0...</td>\n",
       "    </tr>\n",
       "    <tr>\n",
       "      <th>1</th>\n",
       "      <td>2</td>\n",
       "      <td>2</td>\n",
       "      <td>FS-1418827</td>\n",
       "      <td>FED</td>\n",
       "      <td>FS-FIRESTAT</td>\n",
       "      <td>FS</td>\n",
       "      <td>USCAENF</td>\n",
       "      <td>Eldorado National Forest</td>\n",
       "      <td>0503</td>\n",
       "      <td>Eldorado National Forest</td>\n",
       "      <td>...</td>\n",
       "      <td>A</td>\n",
       "      <td>38.933056</td>\n",
       "      <td>-120.404444</td>\n",
       "      <td>5.0</td>\n",
       "      <td>USFS</td>\n",
       "      <td>CA</td>\n",
       "      <td>61</td>\n",
       "      <td>061</td>\n",
       "      <td>Placer</td>\n",
       "      <td>b'\\x00\\x01\\xad\\x10\\x00\\x00T\\xb6\\xeej\\xe2\\x19^\\...</td>\n",
       "    </tr>\n",
       "    <tr>\n",
       "      <th>2</th>\n",
       "      <td>3</td>\n",
       "      <td>3</td>\n",
       "      <td>FS-1418835</td>\n",
       "      <td>FED</td>\n",
       "      <td>FS-FIRESTAT</td>\n",
       "      <td>FS</td>\n",
       "      <td>USCAENF</td>\n",
       "      <td>Eldorado National Forest</td>\n",
       "      <td>0503</td>\n",
       "      <td>Eldorado National Forest</td>\n",
       "      <td>...</td>\n",
       "      <td>A</td>\n",
       "      <td>38.984167</td>\n",
       "      <td>-120.735556</td>\n",
       "      <td>13.0</td>\n",
       "      <td>STATE OR PRIVATE</td>\n",
       "      <td>CA</td>\n",
       "      <td>17</td>\n",
       "      <td>017</td>\n",
       "      <td>El Dorado</td>\n",
       "      <td>b'\\x00\\x01\\xad\\x10\\x00\\x00\\xd0\\xa5\\xa0W\\x13/^\\...</td>\n",
       "    </tr>\n",
       "    <tr>\n",
       "      <th>3</th>\n",
       "      <td>4</td>\n",
       "      <td>4</td>\n",
       "      <td>FS-1418845</td>\n",
       "      <td>FED</td>\n",
       "      <td>FS-FIRESTAT</td>\n",
       "      <td>FS</td>\n",
       "      <td>USCAENF</td>\n",
       "      <td>Eldorado National Forest</td>\n",
       "      <td>0503</td>\n",
       "      <td>Eldorado National Forest</td>\n",
       "      <td>...</td>\n",
       "      <td>A</td>\n",
       "      <td>38.559167</td>\n",
       "      <td>-119.913333</td>\n",
       "      <td>5.0</td>\n",
       "      <td>USFS</td>\n",
       "      <td>CA</td>\n",
       "      <td>3</td>\n",
       "      <td>003</td>\n",
       "      <td>Alpine</td>\n",
       "      <td>b'\\x00\\x01\\xad\\x10\\x00\\x00\\x94\\xac\\xa3\\rt\\xfa]...</td>\n",
       "    </tr>\n",
       "    <tr>\n",
       "      <th>4</th>\n",
       "      <td>5</td>\n",
       "      <td>5</td>\n",
       "      <td>FS-1418847</td>\n",
       "      <td>FED</td>\n",
       "      <td>FS-FIRESTAT</td>\n",
       "      <td>FS</td>\n",
       "      <td>USCAENF</td>\n",
       "      <td>Eldorado National Forest</td>\n",
       "      <td>0503</td>\n",
       "      <td>Eldorado National Forest</td>\n",
       "      <td>...</td>\n",
       "      <td>A</td>\n",
       "      <td>38.559167</td>\n",
       "      <td>-119.933056</td>\n",
       "      <td>5.0</td>\n",
       "      <td>USFS</td>\n",
       "      <td>CA</td>\n",
       "      <td>3</td>\n",
       "      <td>003</td>\n",
       "      <td>Alpine</td>\n",
       "      <td>b'\\x00\\x01\\xad\\x10\\x00\\x00@\\xe3\\xaa.\\xb7\\xfb]\\...</td>\n",
       "    </tr>\n",
       "  </tbody>\n",
       "</table>\n",
       "<p>5 rows × 39 columns</p>\n",
       "</div>"
      ],
      "text/plain": [
       "   OBJECTID  FOD_ID      FPA_ID SOURCE_SYSTEM_TYPE SOURCE_SYSTEM  \\\n",
       "0         1       1  FS-1418826                FED   FS-FIRESTAT   \n",
       "1         2       2  FS-1418827                FED   FS-FIRESTAT   \n",
       "2         3       3  FS-1418835                FED   FS-FIRESTAT   \n",
       "3         4       4  FS-1418845                FED   FS-FIRESTAT   \n",
       "4         5       5  FS-1418847                FED   FS-FIRESTAT   \n",
       "\n",
       "  NWCG_REPORTING_AGENCY NWCG_REPORTING_UNIT_ID  NWCG_REPORTING_UNIT_NAME  \\\n",
       "0                    FS                USCAPNF    Plumas National Forest   \n",
       "1                    FS                USCAENF  Eldorado National Forest   \n",
       "2                    FS                USCAENF  Eldorado National Forest   \n",
       "3                    FS                USCAENF  Eldorado National Forest   \n",
       "4                    FS                USCAENF  Eldorado National Forest   \n",
       "\n",
       "  SOURCE_REPORTING_UNIT SOURCE_REPORTING_UNIT_NAME  ... FIRE_SIZE_CLASS  \\\n",
       "0                  0511     Plumas National Forest  ...               A   \n",
       "1                  0503   Eldorado National Forest  ...               A   \n",
       "2                  0503   Eldorado National Forest  ...               A   \n",
       "3                  0503   Eldorado National Forest  ...               A   \n",
       "4                  0503   Eldorado National Forest  ...               A   \n",
       "\n",
       "    LATITUDE   LONGITUDE OWNER_CODE       OWNER_DESCR STATE COUNTY FIPS_CODE  \\\n",
       "0  40.036944 -121.005833        5.0              USFS    CA     63       063   \n",
       "1  38.933056 -120.404444        5.0              USFS    CA     61       061   \n",
       "2  38.984167 -120.735556       13.0  STATE OR PRIVATE    CA     17       017   \n",
       "3  38.559167 -119.913333        5.0              USFS    CA      3       003   \n",
       "4  38.559167 -119.933056        5.0              USFS    CA      3       003   \n",
       "\n",
       "   FIPS_NAME                                              Shape  \n",
       "0     Plumas  b'\\x00\\x01\\xad\\x10\\x00\\x00\\xe8d\\xc2\\x92_@^\\xc0...  \n",
       "1     Placer  b'\\x00\\x01\\xad\\x10\\x00\\x00T\\xb6\\xeej\\xe2\\x19^\\...  \n",
       "2  El Dorado  b'\\x00\\x01\\xad\\x10\\x00\\x00\\xd0\\xa5\\xa0W\\x13/^\\...  \n",
       "3     Alpine  b'\\x00\\x01\\xad\\x10\\x00\\x00\\x94\\xac\\xa3\\rt\\xfa]...  \n",
       "4     Alpine  b'\\x00\\x01\\xad\\x10\\x00\\x00@\\xe3\\xaa.\\xb7\\xfb]\\...  \n",
       "\n",
       "[5 rows x 39 columns]"
      ]
     },
     "execution_count": 5,
     "metadata": {},
     "output_type": "execute_result"
    }
   ],
   "source": [
    "wildfires.head()"
   ]
  },
  {
   "cell_type": "markdown",
   "id": "f8367be4",
   "metadata": {},
   "source": [
    "### Only care about Colorado. Filter data and drop STATE column"
   ]
  },
  {
   "cell_type": "code",
   "execution_count": 6,
   "id": "6645c7b3-f7a9-489f-8caa-825753302cd1",
   "metadata": {},
   "outputs": [],
   "source": [
    "wildfires = wildfires[wildfires['STATE'] == \"CO\"]"
   ]
  },
  {
   "cell_type": "code",
   "execution_count": 7,
   "id": "3f578aad",
   "metadata": {},
   "outputs": [],
   "source": [
    "wildfires.drop(['STATE'], axis=1, inplace=True)"
   ]
  },
  {
   "cell_type": "code",
   "execution_count": 8,
   "id": "020ca30e",
   "metadata": {},
   "outputs": [
    {
     "name": "stdout",
     "output_type": "stream",
     "text": [
      "Rows 34157 X Columns 38\n"
     ]
    }
   ],
   "source": [
    "print(f\"Rows {wildfires.shape[0]} X Columns {wildfires.shape[1]}\")"
   ]
  },
  {
   "cell_type": "code",
   "execution_count": 9,
   "id": "30866bd3",
   "metadata": {},
   "outputs": [
    {
     "data": {
      "text/html": [
       "<div>\n",
       "<style scoped>\n",
       "    .dataframe tbody tr th:only-of-type {\n",
       "        vertical-align: middle;\n",
       "    }\n",
       "\n",
       "    .dataframe tbody tr th {\n",
       "        vertical-align: top;\n",
       "    }\n",
       "\n",
       "    .dataframe thead th {\n",
       "        text-align: right;\n",
       "    }\n",
       "</style>\n",
       "<table border=\"1\" class=\"dataframe\">\n",
       "  <thead>\n",
       "    <tr style=\"text-align: right;\">\n",
       "      <th></th>\n",
       "      <th>OBJECTID</th>\n",
       "      <th>FOD_ID</th>\n",
       "      <th>FPA_ID</th>\n",
       "      <th>SOURCE_SYSTEM_TYPE</th>\n",
       "      <th>SOURCE_SYSTEM</th>\n",
       "      <th>NWCG_REPORTING_AGENCY</th>\n",
       "      <th>NWCG_REPORTING_UNIT_ID</th>\n",
       "      <th>NWCG_REPORTING_UNIT_NAME</th>\n",
       "      <th>SOURCE_REPORTING_UNIT</th>\n",
       "      <th>SOURCE_REPORTING_UNIT_NAME</th>\n",
       "      <th>...</th>\n",
       "      <th>FIRE_SIZE</th>\n",
       "      <th>FIRE_SIZE_CLASS</th>\n",
       "      <th>LATITUDE</th>\n",
       "      <th>LONGITUDE</th>\n",
       "      <th>OWNER_CODE</th>\n",
       "      <th>OWNER_DESCR</th>\n",
       "      <th>COUNTY</th>\n",
       "      <th>FIPS_CODE</th>\n",
       "      <th>FIPS_NAME</th>\n",
       "      <th>Shape</th>\n",
       "    </tr>\n",
       "  </thead>\n",
       "  <tbody>\n",
       "    <tr>\n",
       "      <th>47</th>\n",
       "      <td>48</td>\n",
       "      <td>48</td>\n",
       "      <td>FS-1418940</td>\n",
       "      <td>FED</td>\n",
       "      <td>FS-FIRESTAT</td>\n",
       "      <td>FS</td>\n",
       "      <td>USCOPSF</td>\n",
       "      <td>Pike and San Isabel National Forest</td>\n",
       "      <td>0212</td>\n",
       "      <td>Pike San Isabel National Forest</td>\n",
       "      <td>...</td>\n",
       "      <td>0.5</td>\n",
       "      <td>B</td>\n",
       "      <td>39.292222</td>\n",
       "      <td>-105.183056</td>\n",
       "      <td>5.0</td>\n",
       "      <td>USFS</td>\n",
       "      <td>None</td>\n",
       "      <td>None</td>\n",
       "      <td>None</td>\n",
       "      <td>b'\\x00\\x01\\xad\\x10\\x00\\x00@\\xe3\\xaa.\\xb7KZ\\xc0...</td>\n",
       "    </tr>\n",
       "    <tr>\n",
       "      <th>61</th>\n",
       "      <td>62</td>\n",
       "      <td>62</td>\n",
       "      <td>FS-1418976</td>\n",
       "      <td>FED</td>\n",
       "      <td>FS-FIRESTAT</td>\n",
       "      <td>FS</td>\n",
       "      <td>USCOPSF</td>\n",
       "      <td>Pike and San Isabel National Forest</td>\n",
       "      <td>0212</td>\n",
       "      <td>Pike San Isabel National Forest</td>\n",
       "      <td>...</td>\n",
       "      <td>0.2</td>\n",
       "      <td>A</td>\n",
       "      <td>38.913333</td>\n",
       "      <td>-105.983611</td>\n",
       "      <td>5.0</td>\n",
       "      <td>USFS</td>\n",
       "      <td>None</td>\n",
       "      <td>None</td>\n",
       "      <td>None</td>\n",
       "      <td>b'\\x00\\x01\\xad\\x10\\x00\\x00\\xa8[\\x03|\\xf3~Z\\xc0...</td>\n",
       "    </tr>\n",
       "    <tr>\n",
       "      <th>62</th>\n",
       "      <td>63</td>\n",
       "      <td>63</td>\n",
       "      <td>FS-1418978</td>\n",
       "      <td>FED</td>\n",
       "      <td>FS-FIRESTAT</td>\n",
       "      <td>FS</td>\n",
       "      <td>USCOPSF</td>\n",
       "      <td>Pike and San Isabel National Forest</td>\n",
       "      <td>0212</td>\n",
       "      <td>Pike San Isabel National Forest</td>\n",
       "      <td>...</td>\n",
       "      <td>0.1</td>\n",
       "      <td>A</td>\n",
       "      <td>39.100278</td>\n",
       "      <td>-106.367500</td>\n",
       "      <td>5.0</td>\n",
       "      <td>USFS</td>\n",
       "      <td>None</td>\n",
       "      <td>None</td>\n",
       "      <td>None</td>\n",
       "      <td>b'\\x00\\x01\\xad\\x10\\x00\\x00\\xe8Q\\xb8\\x1e\\x85\\x9...</td>\n",
       "    </tr>\n",
       "    <tr>\n",
       "      <th>114</th>\n",
       "      <td>115</td>\n",
       "      <td>117</td>\n",
       "      <td>FS-1419150</td>\n",
       "      <td>FED</td>\n",
       "      <td>FS-FIRESTAT</td>\n",
       "      <td>FS</td>\n",
       "      <td>USCOPSF</td>\n",
       "      <td>Pike and San Isabel National Forest</td>\n",
       "      <td>0212</td>\n",
       "      <td>Pike San Isabel National Forest</td>\n",
       "      <td>...</td>\n",
       "      <td>80.0</td>\n",
       "      <td>C</td>\n",
       "      <td>37.345000</td>\n",
       "      <td>-102.805833</td>\n",
       "      <td>5.0</td>\n",
       "      <td>USFS</td>\n",
       "      <td>None</td>\n",
       "      <td>None</td>\n",
       "      <td>None</td>\n",
       "      <td>b'\\x00\\x01\\xad\\x10\\x00\\x00\\x1c\\x98\\xf5\\xc5\\x92...</td>\n",
       "    </tr>\n",
       "    <tr>\n",
       "      <th>205</th>\n",
       "      <td>206</td>\n",
       "      <td>209</td>\n",
       "      <td>FS-1419344</td>\n",
       "      <td>FED</td>\n",
       "      <td>FS-FIRESTAT</td>\n",
       "      <td>FS</td>\n",
       "      <td>USCOPSF</td>\n",
       "      <td>Pike and San Isabel National Forest</td>\n",
       "      <td>0212</td>\n",
       "      <td>Pike San Isabel National Forest</td>\n",
       "      <td>...</td>\n",
       "      <td>2.5</td>\n",
       "      <td>B</td>\n",
       "      <td>38.891111</td>\n",
       "      <td>-105.431944</td>\n",
       "      <td>13.0</td>\n",
       "      <td>STATE OR PRIVATE</td>\n",
       "      <td>None</td>\n",
       "      <td>None</td>\n",
       "      <td>None</td>\n",
       "      <td>b'\\x00\\x01\\xad\\x10\\x00\\x00H\\xdfJ\\xfa\\xa4[Z\\xc0...</td>\n",
       "    </tr>\n",
       "  </tbody>\n",
       "</table>\n",
       "<p>5 rows × 38 columns</p>\n",
       "</div>"
      ],
      "text/plain": [
       "     OBJECTID  FOD_ID      FPA_ID SOURCE_SYSTEM_TYPE SOURCE_SYSTEM  \\\n",
       "47         48      48  FS-1418940                FED   FS-FIRESTAT   \n",
       "61         62      62  FS-1418976                FED   FS-FIRESTAT   \n",
       "62         63      63  FS-1418978                FED   FS-FIRESTAT   \n",
       "114       115     117  FS-1419150                FED   FS-FIRESTAT   \n",
       "205       206     209  FS-1419344                FED   FS-FIRESTAT   \n",
       "\n",
       "    NWCG_REPORTING_AGENCY NWCG_REPORTING_UNIT_ID  \\\n",
       "47                     FS                USCOPSF   \n",
       "61                     FS                USCOPSF   \n",
       "62                     FS                USCOPSF   \n",
       "114                    FS                USCOPSF   \n",
       "205                    FS                USCOPSF   \n",
       "\n",
       "                NWCG_REPORTING_UNIT_NAME SOURCE_REPORTING_UNIT  \\\n",
       "47   Pike and San Isabel National Forest                  0212   \n",
       "61   Pike and San Isabel National Forest                  0212   \n",
       "62   Pike and San Isabel National Forest                  0212   \n",
       "114  Pike and San Isabel National Forest                  0212   \n",
       "205  Pike and San Isabel National Forest                  0212   \n",
       "\n",
       "          SOURCE_REPORTING_UNIT_NAME  ... FIRE_SIZE FIRE_SIZE_CLASS  \\\n",
       "47   Pike San Isabel National Forest  ...       0.5               B   \n",
       "61   Pike San Isabel National Forest  ...       0.2               A   \n",
       "62   Pike San Isabel National Forest  ...       0.1               A   \n",
       "114  Pike San Isabel National Forest  ...      80.0               C   \n",
       "205  Pike San Isabel National Forest  ...       2.5               B   \n",
       "\n",
       "      LATITUDE   LONGITUDE OWNER_CODE       OWNER_DESCR COUNTY FIPS_CODE  \\\n",
       "47   39.292222 -105.183056        5.0              USFS   None      None   \n",
       "61   38.913333 -105.983611        5.0              USFS   None      None   \n",
       "62   39.100278 -106.367500        5.0              USFS   None      None   \n",
       "114  37.345000 -102.805833        5.0              USFS   None      None   \n",
       "205  38.891111 -105.431944       13.0  STATE OR PRIVATE   None      None   \n",
       "\n",
       "    FIPS_NAME                                              Shape  \n",
       "47       None  b'\\x00\\x01\\xad\\x10\\x00\\x00@\\xe3\\xaa.\\xb7KZ\\xc0...  \n",
       "61       None  b'\\x00\\x01\\xad\\x10\\x00\\x00\\xa8[\\x03|\\xf3~Z\\xc0...  \n",
       "62       None  b'\\x00\\x01\\xad\\x10\\x00\\x00\\xe8Q\\xb8\\x1e\\x85\\x9...  \n",
       "114      None  b'\\x00\\x01\\xad\\x10\\x00\\x00\\x1c\\x98\\xf5\\xc5\\x92...  \n",
       "205      None  b'\\x00\\x01\\xad\\x10\\x00\\x00H\\xdfJ\\xfa\\xa4[Z\\xc0...  \n",
       "\n",
       "[5 rows x 38 columns]"
      ]
     },
     "execution_count": 9,
     "metadata": {},
     "output_type": "execute_result"
    }
   ],
   "source": [
    "wildfires.head()"
   ]
  },
  {
   "cell_type": "markdown",
   "id": "2181036a",
   "metadata": {},
   "source": [
    "### Drop duplicate rows"
   ]
  },
  {
   "cell_type": "code",
   "execution_count": 10,
   "id": "26b44c8f",
   "metadata": {},
   "outputs": [
    {
     "name": "stdout",
     "output_type": "stream",
     "text": [
      "None duplicate rows were dropped.\n"
     ]
    }
   ],
   "source": [
    "print(f\"{wildfires.drop_duplicates(inplace=True)} duplicate rows were dropped.\")"
   ]
  },
  {
   "cell_type": "code",
   "execution_count": 11,
   "id": "5bc49eff",
   "metadata": {},
   "outputs": [
    {
     "name": "stdout",
     "output_type": "stream",
     "text": [
      "Rows 34157 X Columns 38\n"
     ]
    }
   ],
   "source": [
    "print(f\"Rows {wildfires.shape[0]} X Columns {wildfires.shape[1]}\")"
   ]
  },
  {
   "cell_type": "markdown",
   "id": "e124e72e",
   "metadata": {},
   "source": [
    "### Display info about the new dataframe"
   ]
  },
  {
   "cell_type": "code",
   "execution_count": 12,
   "id": "82c602c4",
   "metadata": {},
   "outputs": [
    {
     "name": "stdout",
     "output_type": "stream",
     "text": [
      "<class 'pandas.core.frame.DataFrame'>\n",
      "Int64Index: 34157 entries, 47 to 1860054\n",
      "Data columns (total 38 columns):\n",
      " #   Column                      Non-Null Count  Dtype  \n",
      "---  ------                      --------------  -----  \n",
      " 0   OBJECTID                    34157 non-null  int64  \n",
      " 1   FOD_ID                      34157 non-null  int64  \n",
      " 2   FPA_ID                      34157 non-null  object \n",
      " 3   SOURCE_SYSTEM_TYPE          34157 non-null  object \n",
      " 4   SOURCE_SYSTEM               34157 non-null  object \n",
      " 5   NWCG_REPORTING_AGENCY       34157 non-null  object \n",
      " 6   NWCG_REPORTING_UNIT_ID      34157 non-null  object \n",
      " 7   NWCG_REPORTING_UNIT_NAME    34157 non-null  object \n",
      " 8   SOURCE_REPORTING_UNIT       34157 non-null  object \n",
      " 9   SOURCE_REPORTING_UNIT_NAME  34157 non-null  object \n",
      " 10  LOCAL_FIRE_REPORT_ID        12602 non-null  object \n",
      " 11  LOCAL_INCIDENT_ID           12662 non-null  object \n",
      " 12  FIRE_CODE                   19097 non-null  object \n",
      " 13  FIRE_NAME                   27012 non-null  object \n",
      " 14  ICS_209_INCIDENT_NUMBER     595 non-null    object \n",
      " 15  ICS_209_NAME                595 non-null    object \n",
      " 16  MTBS_ID                     205 non-null    object \n",
      " 17  MTBS_FIRE_NAME              205 non-null    object \n",
      " 18  COMPLEX_NAME                52 non-null     object \n",
      " 19  FIRE_YEAR                   34157 non-null  int64  \n",
      " 20  DISCOVERY_DATE              34157 non-null  float64\n",
      " 21  DISCOVERY_DOY               34157 non-null  int64  \n",
      " 22  DISCOVERY_TIME              29449 non-null  object \n",
      " 23  STAT_CAUSE_CODE             34157 non-null  float64\n",
      " 24  STAT_CAUSE_DESCR            34157 non-null  object \n",
      " 25  CONT_DATE                   28325 non-null  float64\n",
      " 26  CONT_DOY                    28325 non-null  float64\n",
      " 27  CONT_TIME                   28165 non-null  object \n",
      " 28  FIRE_SIZE                   34157 non-null  float64\n",
      " 29  FIRE_SIZE_CLASS             34157 non-null  object \n",
      " 30  LATITUDE                    34157 non-null  float64\n",
      " 31  LONGITUDE                   34157 non-null  float64\n",
      " 32  OWNER_CODE                  34157 non-null  float64\n",
      " 33  OWNER_DESCR                 34157 non-null  object \n",
      " 34  COUNTY                      19347 non-null  object \n",
      " 35  FIPS_CODE                   19347 non-null  object \n",
      " 36  FIPS_NAME                   19347 non-null  object \n",
      " 37  Shape                       34157 non-null  object \n",
      "dtypes: float64(8), int64(4), object(26)\n",
      "memory usage: 10.2+ MB\n"
     ]
    }
   ],
   "source": [
    "wildfires.info()"
   ]
  },
  {
   "cell_type": "markdown",
   "id": "49c60f32",
   "metadata": {},
   "source": [
    "### Calculate the percentage of missing cells in each column "
   ]
  },
  {
   "cell_type": "code",
   "execution_count": 13,
   "id": "3fe16906",
   "metadata": {},
   "outputs": [
    {
     "data": {
      "text/plain": [
       "OBJECTID                       0.00\n",
       "FOD_ID                         0.00\n",
       "FPA_ID                         0.00\n",
       "SOURCE_SYSTEM_TYPE             0.00\n",
       "SOURCE_SYSTEM                  0.00\n",
       "NWCG_REPORTING_AGENCY          0.00\n",
       "NWCG_REPORTING_UNIT_ID         0.00\n",
       "NWCG_REPORTING_UNIT_NAME       0.00\n",
       "SOURCE_REPORTING_UNIT          0.00\n",
       "SOURCE_REPORTING_UNIT_NAME     0.00\n",
       "LOCAL_FIRE_REPORT_ID          63.11\n",
       "LOCAL_INCIDENT_ID             62.93\n",
       "FIRE_CODE                     44.09\n",
       "FIRE_NAME                     20.92\n",
       "ICS_209_INCIDENT_NUMBER       98.26\n",
       "ICS_209_NAME                  98.26\n",
       "MTBS_ID                       99.40\n",
       "MTBS_FIRE_NAME                99.40\n",
       "COMPLEX_NAME                  99.85\n",
       "FIRE_YEAR                      0.00\n",
       "DISCOVERY_DATE                 0.00\n",
       "DISCOVERY_DOY                  0.00\n",
       "DISCOVERY_TIME                13.78\n",
       "STAT_CAUSE_CODE                0.00\n",
       "STAT_CAUSE_DESCR               0.00\n",
       "CONT_DATE                     17.07\n",
       "CONT_DOY                      17.07\n",
       "CONT_TIME                     17.54\n",
       "FIRE_SIZE                      0.00\n",
       "FIRE_SIZE_CLASS                0.00\n",
       "LATITUDE                       0.00\n",
       "LONGITUDE                      0.00\n",
       "OWNER_CODE                     0.00\n",
       "OWNER_DESCR                    0.00\n",
       "COUNTY                        43.36\n",
       "FIPS_CODE                     43.36\n",
       "FIPS_NAME                     43.36\n",
       "Shape                          0.00\n",
       "dtype: float64"
      ]
     },
     "execution_count": 13,
     "metadata": {},
     "output_type": "execute_result"
    }
   ],
   "source": [
    "round((wildfires.isnull().sum(axis = 0)/len(wildfires.index))*100 , 2)"
   ]
  },
  {
   "cell_type": "markdown",
   "id": "35abe237",
   "metadata": {},
   "source": [
    "### Count the number of unique values of each column"
   ]
  },
  {
   "cell_type": "code",
   "execution_count": 14,
   "id": "cadae1aa",
   "metadata": {},
   "outputs": [
    {
     "name": "stdout",
     "output_type": "stream",
     "text": [
      "OBJECTID 34157\n",
      "\n",
      "\n",
      "FOD_ID 34157\n",
      "\n",
      "\n",
      "FPA_ID 34157\n",
      "\n",
      "\n",
      "SOURCE_SYSTEM_TYPE 3\n",
      "\n",
      "\n",
      "SOURCE_SYSTEM 6\n",
      "\n",
      "\n",
      "NWCG_REPORTING_AGENCY 8\n",
      "\n",
      "\n",
      "NWCG_REPORTING_UNIT_ID 259\n",
      "\n",
      "\n",
      "NWCG_REPORTING_UNIT_NAME 258\n",
      "\n",
      "\n",
      "SOURCE_REPORTING_UNIT 274\n",
      "\n",
      "\n",
      "SOURCE_REPORTING_UNIT_NAME 304\n",
      "\n",
      "\n",
      "LOCAL_FIRE_REPORT_ID 615\n",
      "\n",
      "\n",
      "LOCAL_INCIDENT_ID 10839\n",
      "\n",
      "\n",
      "FIRE_CODE 11948\n",
      "\n",
      "\n",
      "FIRE_NAME 14175\n",
      "\n",
      "\n",
      "ICS_209_INCIDENT_NUMBER 577\n",
      "\n",
      "\n",
      "ICS_209_NAME 557\n",
      "\n",
      "\n",
      "MTBS_ID 202\n",
      "\n",
      "\n",
      "MTBS_FIRE_NAME 187\n",
      "\n",
      "\n",
      "COMPLEX_NAME 30\n",
      "\n",
      "\n",
      "FIRE_YEAR 24\n",
      "\n",
      "\n",
      "DISCOVERY_DATE 5325\n",
      "\n",
      "\n",
      "DISCOVERY_DOY 365\n",
      "\n",
      "\n",
      "DISCOVERY_TIME 1258\n",
      "\n",
      "\n",
      "STAT_CAUSE_CODE 13\n",
      "\n",
      "\n",
      "STAT_CAUSE_DESCR 13\n",
      "\n",
      "\n",
      "CONT_DATE 4651\n",
      "\n",
      "\n",
      "CONT_DOY 362\n",
      "\n",
      "\n",
      "CONT_TIME 1175\n",
      "\n",
      "\n",
      "FIRE_SIZE 855\n",
      "\n",
      "\n",
      "FIRE_SIZE_CLASS 7\n",
      "\n",
      "\n",
      "LATITUDE 18007\n",
      "\n",
      "\n",
      "LONGITUDE 19449\n",
      "\n",
      "\n",
      "OWNER_CODE 15\n",
      "\n",
      "\n",
      "OWNER_DESCR 15\n",
      "\n",
      "\n",
      "COUNTY 191\n",
      "\n",
      "\n",
      "FIPS_CODE 63\n",
      "\n",
      "\n",
      "FIPS_NAME 63\n",
      "\n",
      "\n",
      "Shape 30066\n",
      "\n",
      "\n"
     ]
    }
   ],
   "source": [
    "for column in wildfires.columns:\n",
    "    print(column, wildfires[column].nunique())\n",
    "    print('\\n')"
   ]
  },
  {
   "cell_type": "markdown",
   "id": "9afdab48",
   "metadata": {},
   "source": [
    "### Drop columns with non-null value higher than 60%. Many of these columns are identifier columns, which are not important since their names do not determine if there will be a fire"
   ]
  },
  {
   "cell_type": "code",
   "execution_count": 15,
   "id": "356060ea",
   "metadata": {},
   "outputs": [],
   "source": [
    "identifier_columns = [\"OBJECTID\",\n",
    "                      \"FOD_ID\",\n",
    "                      \"FPA_ID\",\n",
    "                      \"ICS_209_INCIDENT_NUMBER\", \n",
    "                      \"ICS_209_NAME\", \"MTBS_ID\", \n",
    "                      \"MTBS_FIRE_NAME\", \"COMPLEX_NAME\", \n",
    "                      \"LOCAL_FIRE_REPORT_ID\", \"LOCAL_INCIDENT_ID\"]\n",
    "\n",
    "wildfires.drop(identifier_columns, axis=1, inplace=True)"
   ]
  },
  {
   "cell_type": "code",
   "execution_count": 16,
   "id": "7cb81e36",
   "metadata": {},
   "outputs": [
    {
     "data": {
      "text/plain": [
       "Index(['SOURCE_SYSTEM_TYPE', 'SOURCE_SYSTEM', 'NWCG_REPORTING_AGENCY',\n",
       "       'NWCG_REPORTING_UNIT_ID', 'NWCG_REPORTING_UNIT_NAME',\n",
       "       'SOURCE_REPORTING_UNIT', 'SOURCE_REPORTING_UNIT_NAME', 'FIRE_CODE',\n",
       "       'FIRE_NAME', 'FIRE_YEAR', 'DISCOVERY_DATE', 'DISCOVERY_DOY',\n",
       "       'DISCOVERY_TIME', 'STAT_CAUSE_CODE', 'STAT_CAUSE_DESCR', 'CONT_DATE',\n",
       "       'CONT_DOY', 'CONT_TIME', 'FIRE_SIZE', 'FIRE_SIZE_CLASS', 'LATITUDE',\n",
       "       'LONGITUDE', 'OWNER_CODE', 'OWNER_DESCR', 'COUNTY', 'FIPS_CODE',\n",
       "       'FIPS_NAME', 'Shape'],\n",
       "      dtype='object')"
      ]
     },
     "execution_count": 16,
     "metadata": {},
     "output_type": "execute_result"
    }
   ],
   "source": [
    "wildfires.columns"
   ]
  },
  {
   "cell_type": "markdown",
   "id": "7420e726",
   "metadata": {},
   "source": [
    "### Remove columns that don't seem to influence the occurrence of a fire"
   ]
  },
  {
   "cell_type": "code",
   "execution_count": 17,
   "id": "b8ae2363",
   "metadata": {},
   "outputs": [],
   "source": [
    "unnecessary_columns = [\"SOURCE_SYSTEM_TYPE\", \"SOURCE_SYSTEM\", \n",
    "                       \"SOURCE_REPORTING_UNIT\", \"SOURCE_REPORTING_UNIT_NAME\",\n",
    "                      \"NWCG_REPORTING_AGENCY\", \"NWCG_REPORTING_UNIT_ID\", \"NWCG_REPORTING_UNIT_NAME\",\n",
    "                       \"FIRE_CODE\", \"FIRE_NAME\", \"OWNER_DESCR\", \"Shape\"]\n",
    "\n",
    "wildfires.drop(unnecessary_columns, axis=1, inplace=True)"
   ]
  },
  {
   "cell_type": "code",
   "execution_count": 18,
   "id": "7ae1f2b8",
   "metadata": {},
   "outputs": [
    {
     "data": {
      "text/plain": [
       "Index(['FIRE_YEAR', 'DISCOVERY_DATE', 'DISCOVERY_DOY', 'DISCOVERY_TIME',\n",
       "       'STAT_CAUSE_CODE', 'STAT_CAUSE_DESCR', 'CONT_DATE', 'CONT_DOY',\n",
       "       'CONT_TIME', 'FIRE_SIZE', 'FIRE_SIZE_CLASS', 'LATITUDE', 'LONGITUDE',\n",
       "       'OWNER_CODE', 'COUNTY', 'FIPS_CODE', 'FIPS_NAME'],\n",
       "      dtype='object')"
      ]
     },
     "execution_count": 18,
     "metadata": {},
     "output_type": "execute_result"
    }
   ],
   "source": [
    "wildfires.columns"
   ]
  },
  {
   "cell_type": "markdown",
   "id": "819d3727",
   "metadata": {},
   "source": [
    "### Identify feature columns with high correlations"
   ]
  },
  {
   "cell_type": "code",
   "execution_count": 19,
   "id": "a11a99d8",
   "metadata": {},
   "outputs": [],
   "source": [
    "correlation_matrix = wildfires.corr()"
   ]
  },
  {
   "cell_type": "code",
   "execution_count": 20,
   "id": "26ff7c4c",
   "metadata": {},
   "outputs": [
    {
     "data": {
      "text/plain": [
       "<AxesSubplot:>"
      ]
     },
     "execution_count": 20,
     "metadata": {},
     "output_type": "execute_result"
    },
    {
     "data": {
      "image/png": "[encoded data removed]",
      "text/plain": [
       "<Figure size 1440x1080 with 2 Axes>"
      ]
     },
     "metadata": {
      "needs_background": "light"
     },
     "output_type": "display_data"
    }
   ],
   "source": [
    "plt.subplots(figsize=(20,15))\n",
    "sns.heatmap(data=correlation_matrix, annot=True)"
   ]
  },
  {
   "cell_type": "markdown",
   "id": "6782f383",
   "metadata": {},
   "source": [
    "### None of them seem to have a high correlation, so no additional action is needed here."
   ]
  },
  {
   "cell_type": "markdown",
   "id": "04dfabf3",
   "metadata": {},
   "source": [
    "### Display data info and summary again"
   ]
  },
  {
   "cell_type": "code",
   "execution_count": 21,
   "id": "dd49c7f3",
   "metadata": {},
   "outputs": [
    {
     "name": "stdout",
     "output_type": "stream",
     "text": [
      "Rows 34157 X Columns 17\n"
     ]
    }
   ],
   "source": [
    "print(f\"Rows {wildfires.shape[0]} X Columns {wildfires.shape[1]}\")"
   ]
  },
  {
   "cell_type": "code",
   "execution_count": 22,
   "id": "858b20f9",
   "metadata": {},
   "outputs": [
    {
     "name": "stdout",
     "output_type": "stream",
     "text": [
      "<class 'pandas.core.frame.DataFrame'>\n",
      "Int64Index: 34157 entries, 47 to 1860054\n",
      "Data columns (total 17 columns):\n",
      " #   Column            Non-Null Count  Dtype  \n",
      "---  ------            --------------  -----  \n",
      " 0   FIRE_YEAR         34157 non-null  int64  \n",
      " 1   DISCOVERY_DATE    34157 non-null  float64\n",
      " 2   DISCOVERY_DOY     34157 non-null  int64  \n",
      " 3   DISCOVERY_TIME    29449 non-null  object \n",
      " 4   STAT_CAUSE_CODE   34157 non-null  float64\n",
      " 5   STAT_CAUSE_DESCR  34157 non-null  object \n",
      " 6   CONT_DATE         28325 non-null  float64\n",
      " 7   CONT_DOY          28325 non-null  float64\n",
      " 8   CONT_TIME         28165 non-null  object \n",
      " 9   FIRE_SIZE         34157 non-null  float64\n",
      " 10  FIRE_SIZE_CLASS   34157 non-null  object \n",
      " 11  LATITUDE          34157 non-null  float64\n",
      " 12  LONGITUDE         34157 non-null  float64\n",
      " 13  OWNER_CODE        34157 non-null  float64\n",
      " 14  COUNTY            19347 non-null  object \n",
      " 15  FIPS_CODE         19347 non-null  object \n",
      " 16  FIPS_NAME         19347 non-null  object \n",
      "dtypes: float64(8), int64(2), object(7)\n",
      "memory usage: 4.7+ MB\n"
     ]
    }
   ],
   "source": [
    "wildfires.info()"
   ]
  },
  {
   "cell_type": "code",
   "execution_count": 23,
   "id": "302c53bf",
   "metadata": {},
   "outputs": [
    {
     "data": {
      "text/plain": [
       "FIRE_YEAR            0.00\n",
       "DISCOVERY_DATE       0.00\n",
       "DISCOVERY_DOY        0.00\n",
       "DISCOVERY_TIME      13.78\n",
       "STAT_CAUSE_CODE      0.00\n",
       "STAT_CAUSE_DESCR     0.00\n",
       "CONT_DATE           17.07\n",
       "CONT_DOY            17.07\n",
       "CONT_TIME           17.54\n",
       "FIRE_SIZE            0.00\n",
       "FIRE_SIZE_CLASS      0.00\n",
       "LATITUDE             0.00\n",
       "LONGITUDE            0.00\n",
       "OWNER_CODE           0.00\n",
       "COUNTY              43.36\n",
       "FIPS_CODE           43.36\n",
       "FIPS_NAME           43.36\n",
       "dtype: float64"
      ]
     },
     "execution_count": 23,
     "metadata": {},
     "output_type": "execute_result"
    }
   ],
   "source": [
    "round((wildfires.isnull().sum(axis = 0)/len(wildfires.index))*100 , 2)"
   ]
  },
  {
   "cell_type": "code",
   "execution_count": 24,
   "id": "f2c92ba1",
   "metadata": {},
   "outputs": [
    {
     "data": {
      "text/html": [
       "<div>\n",
       "<style scoped>\n",
       "    .dataframe tbody tr th:only-of-type {\n",
       "        vertical-align: middle;\n",
       "    }\n",
       "\n",
       "    .dataframe tbody tr th {\n",
       "        vertical-align: top;\n",
       "    }\n",
       "\n",
       "    .dataframe thead th {\n",
       "        text-align: right;\n",
       "    }\n",
       "</style>\n",
       "<table border=\"1\" class=\"dataframe\">\n",
       "  <thead>\n",
       "    <tr style=\"text-align: right;\">\n",
       "      <th></th>\n",
       "      <th>FIRE_YEAR</th>\n",
       "      <th>DISCOVERY_DATE</th>\n",
       "      <th>DISCOVERY_DOY</th>\n",
       "      <th>DISCOVERY_TIME</th>\n",
       "      <th>STAT_CAUSE_CODE</th>\n",
       "      <th>STAT_CAUSE_DESCR</th>\n",
       "      <th>CONT_DATE</th>\n",
       "      <th>CONT_DOY</th>\n",
       "      <th>CONT_TIME</th>\n",
       "      <th>FIRE_SIZE</th>\n",
       "      <th>FIRE_SIZE_CLASS</th>\n",
       "      <th>LATITUDE</th>\n",
       "      <th>LONGITUDE</th>\n",
       "      <th>OWNER_CODE</th>\n",
       "      <th>COUNTY</th>\n",
       "      <th>FIPS_CODE</th>\n",
       "      <th>FIPS_NAME</th>\n",
       "    </tr>\n",
       "  </thead>\n",
       "  <tbody>\n",
       "    <tr>\n",
       "      <th>47</th>\n",
       "      <td>2005</td>\n",
       "      <td>2453535.5</td>\n",
       "      <td>165</td>\n",
       "      <td>1300</td>\n",
       "      <td>1.0</td>\n",
       "      <td>Lightning</td>\n",
       "      <td>2453535.5</td>\n",
       "      <td>165.0</td>\n",
       "      <td>1530</td>\n",
       "      <td>0.5</td>\n",
       "      <td>B</td>\n",
       "      <td>39.292222</td>\n",
       "      <td>-105.183056</td>\n",
       "      <td>5.0</td>\n",
       "      <td>None</td>\n",
       "      <td>None</td>\n",
       "      <td>None</td>\n",
       "    </tr>\n",
       "    <tr>\n",
       "      <th>61</th>\n",
       "      <td>2005</td>\n",
       "      <td>2453520.5</td>\n",
       "      <td>150</td>\n",
       "      <td>1100</td>\n",
       "      <td>1.0</td>\n",
       "      <td>Lightning</td>\n",
       "      <td>2453521.5</td>\n",
       "      <td>151.0</td>\n",
       "      <td>1218</td>\n",
       "      <td>0.2</td>\n",
       "      <td>A</td>\n",
       "      <td>38.913333</td>\n",
       "      <td>-105.983611</td>\n",
       "      <td>5.0</td>\n",
       "      <td>None</td>\n",
       "      <td>None</td>\n",
       "      <td>None</td>\n",
       "    </tr>\n",
       "    <tr>\n",
       "      <th>62</th>\n",
       "      <td>2005</td>\n",
       "      <td>2453542.5</td>\n",
       "      <td>172</td>\n",
       "      <td>1241</td>\n",
       "      <td>4.0</td>\n",
       "      <td>Campfire</td>\n",
       "      <td>2453542.5</td>\n",
       "      <td>172.0</td>\n",
       "      <td>1506</td>\n",
       "      <td>0.1</td>\n",
       "      <td>A</td>\n",
       "      <td>39.100278</td>\n",
       "      <td>-106.367500</td>\n",
       "      <td>5.0</td>\n",
       "      <td>None</td>\n",
       "      <td>None</td>\n",
       "      <td>None</td>\n",
       "    </tr>\n",
       "    <tr>\n",
       "      <th>114</th>\n",
       "      <td>2005</td>\n",
       "      <td>2453558.5</td>\n",
       "      <td>188</td>\n",
       "      <td>1907</td>\n",
       "      <td>1.0</td>\n",
       "      <td>Lightning</td>\n",
       "      <td>2453558.5</td>\n",
       "      <td>188.0</td>\n",
       "      <td>2130</td>\n",
       "      <td>80.0</td>\n",
       "      <td>C</td>\n",
       "      <td>37.345000</td>\n",
       "      <td>-102.805833</td>\n",
       "      <td>5.0</td>\n",
       "      <td>None</td>\n",
       "      <td>None</td>\n",
       "      <td>None</td>\n",
       "    </tr>\n",
       "    <tr>\n",
       "      <th>205</th>\n",
       "      <td>2005</td>\n",
       "      <td>2453534.5</td>\n",
       "      <td>164</td>\n",
       "      <td>1428</td>\n",
       "      <td>9.0</td>\n",
       "      <td>Miscellaneous</td>\n",
       "      <td>2453534.5</td>\n",
       "      <td>164.0</td>\n",
       "      <td>1736</td>\n",
       "      <td>2.5</td>\n",
       "      <td>B</td>\n",
       "      <td>38.891111</td>\n",
       "      <td>-105.431944</td>\n",
       "      <td>13.0</td>\n",
       "      <td>None</td>\n",
       "      <td>None</td>\n",
       "      <td>None</td>\n",
       "    </tr>\n",
       "  </tbody>\n",
       "</table>\n",
       "</div>"
      ],
      "text/plain": [
       "     FIRE_YEAR  DISCOVERY_DATE  DISCOVERY_DOY DISCOVERY_TIME  STAT_CAUSE_CODE  \\\n",
       "47        2005       2453535.5            165           1300              1.0   \n",
       "61        2005       2453520.5            150           1100              1.0   \n",
       "62        2005       2453542.5            172           1241              4.0   \n",
       "114       2005       2453558.5            188           1907              1.0   \n",
       "205       2005       2453534.5            164           1428              9.0   \n",
       "\n",
       "    STAT_CAUSE_DESCR  CONT_DATE  CONT_DOY CONT_TIME  FIRE_SIZE  \\\n",
       "47         Lightning  2453535.5     165.0      1530        0.5   \n",
       "61         Lightning  2453521.5     151.0      1218        0.2   \n",
       "62          Campfire  2453542.5     172.0      1506        0.1   \n",
       "114        Lightning  2453558.5     188.0      2130       80.0   \n",
       "205    Miscellaneous  2453534.5     164.0      1736        2.5   \n",
       "\n",
       "    FIRE_SIZE_CLASS   LATITUDE   LONGITUDE  OWNER_CODE COUNTY FIPS_CODE  \\\n",
       "47                B  39.292222 -105.183056         5.0   None      None   \n",
       "61                A  38.913333 -105.983611         5.0   None      None   \n",
       "62                A  39.100278 -106.367500         5.0   None      None   \n",
       "114               C  37.345000 -102.805833         5.0   None      None   \n",
       "205               B  38.891111 -105.431944        13.0   None      None   \n",
       "\n",
       "    FIPS_NAME  \n",
       "47       None  \n",
       "61       None  \n",
       "62       None  \n",
       "114      None  \n",
       "205      None  "
      ]
     },
     "execution_count": 24,
     "metadata": {},
     "output_type": "execute_result"
    }
   ],
   "source": [
    "wildfires.head()"
   ]
  },
  {
   "cell_type": "code",
   "execution_count": 25,
   "id": "416ebb16",
   "metadata": {},
   "outputs": [],
   "source": [
    "wildfires_orig_copy = wildfires.copy()"
   ]
  },
  {
   "cell_type": "markdown",
   "id": "4f1c9f76",
   "metadata": {},
   "source": [
    "## Clean individual columns"
   ]
  },
  {
   "cell_type": "markdown",
   "id": "0a758038",
   "metadata": {},
   "source": [
    "### \"FIRE_YEAR\""
   ]
  },
  {
   "cell_type": "code",
   "execution_count": 26,
   "id": "ca2ffc62",
   "metadata": {},
   "outputs": [
    {
     "data": {
      "text/plain": [
       "2013    3894\n",
       "2010    2694\n",
       "1994    2515\n",
       "2003    2422\n",
       "2005    1875\n",
       "2000    1619\n",
       "1995    1517\n",
       "1996    1405\n",
       "1992    1322\n",
       "2006    1316\n",
       "2004    1310\n",
       "2001    1266\n",
       "1993    1244\n",
       "2002    1221\n",
       "2012    1106\n",
       "2007    1070\n",
       "2008    1015\n",
       "2011     957\n",
       "2009     952\n",
       "1998     765\n",
       "1999     756\n",
       "1997     722\n",
       "2014     603\n",
       "2015     591\n",
       "Name: FIRE_YEAR, dtype: int64"
      ]
     },
     "execution_count": 26,
     "metadata": {},
     "output_type": "execute_result"
    }
   ],
   "source": [
    "wildfires['FIRE_YEAR'].value_counts()"
   ]
  },
  {
   "cell_type": "code",
   "execution_count": 27,
   "id": "4c2e38b2",
   "metadata": {
    "scrolled": true
   },
   "outputs": [
    {
     "data": {
      "text/plain": [
       "<AxesSubplot:xlabel='FIRE_YEAR', ylabel='count'>"
      ]
     },
     "execution_count": 27,
     "metadata": {},
     "output_type": "execute_result"
    },
    {
     "data": {
      "image/png": "[encoded data removed]",
      "text/plain": [
       "<Figure size 432x288 with 1 Axes>"
      ]
     },
     "metadata": {
      "needs_background": "light"
     },
     "output_type": "display_data"
    }
   ],
   "source": [
    "sns.countplot(x = 'FIRE_YEAR', data=wildfires)"
   ]
  },
  {
   "cell_type": "markdown",
   "id": "261745ee",
   "metadata": {},
   "source": [
    "#### Number of unique years where wildfires happened does not seem skewed or abnormal. Will leave this columns as it is."
   ]
  },
  {
   "cell_type": "markdown",
   "id": "4e3f4c6e",
   "metadata": {},
   "source": [
    "### \"DISCOVERY_DATE\""
   ]
  },
  {
   "cell_type": "code",
   "execution_count": 28,
   "id": "01e689f1",
   "metadata": {},
   "outputs": [
    {
     "data": {
      "text/plain": [
       "2449536.5    80\n",
       "2449548.5    63\n",
       "2449557.5    61\n",
       "2450647.5    61\n",
       "2452806.5    60\n",
       "             ..\n",
       "2453044.5     1\n",
       "2453103.5     1\n",
       "2453043.5     1\n",
       "2453046.5     1\n",
       "2457101.5     1\n",
       "Name: DISCOVERY_DATE, Length: 5325, dtype: int64"
      ]
     },
     "execution_count": 28,
     "metadata": {},
     "output_type": "execute_result"
    }
   ],
   "source": [
    "wildfires['DISCOVERY_DATE'].value_counts()"
   ]
  },
  {
   "cell_type": "code",
   "execution_count": 29,
   "id": "0912f4df",
   "metadata": {},
   "outputs": [
    {
     "name": "stderr",
     "output_type": "stream",
     "text": [
      "/Users/aoadmin/opt/anaconda3/lib/python3.9/site-packages/seaborn/distributions.py:2619: FutureWarning: `distplot` is a deprecated function and will be removed in a future version. Please adapt your code to use either `displot` (a figure-level function with similar flexibility) or `histplot` (an axes-level function for histograms).\n",
      "  warnings.warn(msg, FutureWarning)\n"
     ]
    },
    {
     "data": {
      "text/plain": [
       "<AxesSubplot:xlabel='DISCOVERY_DATE', ylabel='Density'>"
      ]
     },
     "execution_count": 29,
     "metadata": {},
     "output_type": "execute_result"
    },
    {
     "data": {
      "image/png": "[encoded data removed]",
      "text/plain": [
       "<Figure size 432x288 with 1 Axes>"
      ]
     },
     "metadata": {
      "needs_background": "light"
     },
     "output_type": "display_data"
    }
   ],
   "source": [
    "sns.distplot(wildfires['DISCOVERY_DATE'])"
   ]
  },
  {
   "cell_type": "code",
   "execution_count": 30,
   "id": "c7d89915",
   "metadata": {},
   "outputs": [
    {
     "data": {
      "text/plain": [
       "<AxesSubplot:xlabel='DISCOVERY_DATE'>"
      ]
     },
     "execution_count": 30,
     "metadata": {},
     "output_type": "execute_result"
    },
    {
     "data": {
      "image/png": "[encoded data removed]",
      "text/plain": [
       "<Figure size 432x288 with 1 Axes>"
      ]
     },
     "metadata": {
      "needs_background": "light"
     },
     "output_type": "display_data"
    }
   ],
   "source": [
    "sns.boxplot(x = wildfires['DISCOVERY_DATE'])"
   ]
  },
  {
   "cell_type": "markdown",
   "id": "d427c544",
   "metadata": {},
   "source": [
    "#### This column also does not have missing values or outliers that need to be accounted for"
   ]
  },
  {
   "cell_type": "markdown",
   "id": "121beb70",
   "metadata": {},
   "source": [
    "### \"DISCOVERY_DOY\""
   ]
  },
  {
   "cell_type": "code",
   "execution_count": 31,
   "id": "19331cc3",
   "metadata": {},
   "outputs": [
    {
     "data": {
      "text/plain": [
       "205    454\n",
       "185    431\n",
       "186    417\n",
       "184    410\n",
       "199    397\n",
       "      ... \n",
       "353      4\n",
       "365      4\n",
       "356      3\n",
       "358      2\n",
       "355      2\n",
       "Name: DISCOVERY_DOY, Length: 365, dtype: int64"
      ]
     },
     "execution_count": 31,
     "metadata": {},
     "output_type": "execute_result"
    }
   ],
   "source": [
    "wildfires['DISCOVERY_DOY'].value_counts()"
   ]
  },
  {
   "cell_type": "code",
   "execution_count": 32,
   "id": "0e8d0760",
   "metadata": {},
   "outputs": [
    {
     "data": {
      "text/plain": [
       "<AxesSubplot:xlabel='DISCOVERY_DOY', ylabel='count'>"
      ]
     },
     "execution_count": 32,
     "metadata": {},
     "output_type": "execute_result"
    },
    {
     "data": {
      "image/png": "[encoded data removed]",
      "text/plain": [
       "<Figure size 432x288 with 1 Axes>"
      ]
     },
     "metadata": {
      "needs_background": "light"
     },
     "output_type": "display_data"
    }
   ],
   "source": [
    "sns.countplot(x = 'DISCOVERY_DOY', data=wildfires)"
   ]
  },
  {
   "cell_type": "markdown",
   "id": "95f73656",
   "metadata": {},
   "source": [
    "#### A lot of thes fires occur in the summer in CO, so this plot makes sense. No missing values."
   ]
  },
  {
   "cell_type": "markdown",
   "id": "eb7d1056",
   "metadata": {},
   "source": [
    "### \"DISCOVERY_TIME\""
   ]
  },
  {
   "cell_type": "markdown",
   "id": "cbc31d7c",
   "metadata": {},
   "source": [
    "### Convert values from objects to floats"
   ]
  },
  {
   "cell_type": "code",
   "execution_count": 33,
   "id": "f30adee0",
   "metadata": {},
   "outputs": [],
   "source": [
    "wildfires[['DISCOVERY_TIME']] = wildfires[['DISCOVERY_TIME']].apply(pd.to_numeric)"
   ]
  },
  {
   "cell_type": "code",
   "execution_count": 34,
   "id": "cc576d3d",
   "metadata": {},
   "outputs": [
    {
     "data": {
      "text/plain": [
       "1500.0    679\n",
       "1400.0    673\n",
       "1600.0    666\n",
       "1700.0    545\n",
       "1800.0    498\n",
       "         ... \n",
       "215.0       1\n",
       "551.0       1\n",
       "2351.0      1\n",
       "2322.0      1\n",
       "602.0       1\n",
       "Name: DISCOVERY_TIME, Length: 1258, dtype: int64"
      ]
     },
     "execution_count": 34,
     "metadata": {},
     "output_type": "execute_result"
    }
   ],
   "source": [
    "wildfires['DISCOVERY_TIME'].value_counts()"
   ]
  },
  {
   "cell_type": "code",
   "execution_count": 35,
   "id": "33b0c96f",
   "metadata": {},
   "outputs": [
    {
     "name": "stdout",
     "output_type": "stream",
     "text": [
      "There are 4708 missing values. Fill in with most common one.\n"
     ]
    }
   ],
   "source": [
    "print(f\"There are {wildfires['DISCOVERY_TIME'].isnull().sum(axis=0)} missing values. Fill in with most common one.\")"
   ]
  },
  {
   "cell_type": "code",
   "execution_count": 36,
   "id": "927b212d",
   "metadata": {},
   "outputs": [],
   "source": [
    "wildfires['DISCOVERY_TIME'] = wildfires['DISCOVERY_TIME'].apply(lambda time: 1500.0 if np.isnan(time) else time)"
   ]
  },
  {
   "cell_type": "code",
   "execution_count": 37,
   "id": "fec8025b",
   "metadata": {},
   "outputs": [
    {
     "name": "stderr",
     "output_type": "stream",
     "text": [
      "/Users/aoadmin/opt/anaconda3/lib/python3.9/site-packages/seaborn/distributions.py:2619: FutureWarning: `distplot` is a deprecated function and will be removed in a future version. Please adapt your code to use either `displot` (a figure-level function with similar flexibility) or `histplot` (an axes-level function for histograms).\n",
      "  warnings.warn(msg, FutureWarning)\n"
     ]
    },
    {
     "data": {
      "text/plain": [
       "<AxesSubplot:xlabel='DISCOVERY_TIME', ylabel='Density'>"
      ]
     },
     "execution_count": 37,
     "metadata": {},
     "output_type": "execute_result"
    },
    {
     "data": {
      "image/png": "[encoded data removed]",
      "text/plain": [
       "<Figure size 432x288 with 1 Axes>"
      ]
     },
     "metadata": {
      "needs_background": "light"
     },
     "output_type": "display_data"
    }
   ],
   "source": [
    "sns.distplot(wildfires['DISCOVERY_TIME'])"
   ]
  },
  {
   "cell_type": "code",
   "execution_count": 38,
   "id": "174df54e",
   "metadata": {},
   "outputs": [
    {
     "data": {
      "text/plain": [
       "<AxesSubplot:xlabel='DISCOVERY_TIME'>"
      ]
     },
     "execution_count": 38,
     "metadata": {},
     "output_type": "execute_result"
    },
    {
     "data": {
      "image/png": "[encoded data removed]",
      "text/plain": [
       "<Figure size 432x288 with 1 Axes>"
      ]
     },
     "metadata": {
      "needs_background": "light"
     },
     "output_type": "display_data"
    }
   ],
   "source": [
    "sns.boxplot(x = wildfires['DISCOVERY_TIME'])"
   ]
  },
  {
   "cell_type": "markdown",
   "id": "aae29c7d",
   "metadata": {},
   "source": [
    "### Handle outliers using the IQR method and replace values for a better distribution"
   ]
  },
  {
   "cell_type": "code",
   "execution_count": 39,
   "id": "b1da203b",
   "metadata": {},
   "outputs": [],
   "source": [
    "Q3 = wildfires['DISCOVERY_TIME'].quantile(0.75)\n",
    "Q1 = wildfires['DISCOVERY_TIME'].quantile(0.25)\n",
    "IQR = Q3 - Q1\n",
    "IQR_min = Q1 - 1.5*IQR\n",
    "IQR_max = Q3 + 1.5*IQR"
   ]
  },
  {
   "cell_type": "code",
   "execution_count": 40,
   "id": "098770a6",
   "metadata": {},
   "outputs": [
    {
     "data": {
      "text/plain": [
       "47         1300.0\n",
       "61         1100.0\n",
       "62         1241.0\n",
       "114        1907.0\n",
       "205        1428.0\n",
       "            ...  \n",
       "1860039    1519.0\n",
       "1860043    1600.0\n",
       "1860044    1121.0\n",
       "1860048    1305.0\n",
       "1860054    1312.0\n",
       "Name: DISCOVERY_TIME, Length: 34157, dtype: float64"
      ]
     },
     "execution_count": 40,
     "metadata": {},
     "output_type": "execute_result"
    }
   ],
   "source": [
    "wildfires['DISCOVERY_TIME'].apply(lambda time: wildfires['DISCOVERY_TIME'].replace(time, IQR_min + 1, inplace=True) if (time < IQR_min) else time)"
   ]
  },
  {
   "cell_type": "code",
   "execution_count": 41,
   "id": "90b9c61c",
   "metadata": {},
   "outputs": [
    {
     "data": {
      "text/plain": [
       "47         1300.0\n",
       "61         1100.0\n",
       "62         1241.0\n",
       "114        1907.0\n",
       "205        1428.0\n",
       "            ...  \n",
       "1860039    1519.0\n",
       "1860043    1600.0\n",
       "1860044    1121.0\n",
       "1860048    1305.0\n",
       "1860054    1312.0\n",
       "Name: DISCOVERY_TIME, Length: 34157, dtype: float64"
      ]
     },
     "execution_count": 41,
     "metadata": {},
     "output_type": "execute_result"
    }
   ],
   "source": [
    "wildfires['DISCOVERY_TIME'].apply(lambda time: wildfires['DISCOVERY_TIME'].replace(time, IQR_max - 1, inplace=True) if (time > IQR_max) else time)"
   ]
  },
  {
   "cell_type": "code",
   "execution_count": 42,
   "id": "39958cef",
   "metadata": {},
   "outputs": [
    {
     "data": {
      "text/plain": [
       "<AxesSubplot:xlabel='DISCOVERY_TIME'>"
      ]
     },
     "execution_count": 42,
     "metadata": {},
     "output_type": "execute_result"
    },
    {
     "data": {
      "image/png": "[encoded data removed]",
      "text/plain": [
       "<Figure size 432x288 with 1 Axes>"
      ]
     },
     "metadata": {
      "needs_background": "light"
     },
     "output_type": "display_data"
    }
   ],
   "source": [
    "sns.boxplot(x = wildfires['DISCOVERY_TIME'])"
   ]
  },
  {
   "cell_type": "markdown",
   "id": "5b105a6e",
   "metadata": {},
   "source": [
    "### \"STAT_CAUSE_CODE\""
   ]
  },
  {
   "cell_type": "code",
   "execution_count": 43,
   "id": "50c483b6",
   "metadata": {},
   "outputs": [
    {
     "data": {
      "text/plain": [
       "1.0     19945\n",
       "9.0      4660\n",
       "13.0     3113\n",
       "4.0      2953\n",
       "7.0       844\n",
       "3.0       766\n",
       "5.0       708\n",
       "2.0       547\n",
       "10.0      244\n",
       "8.0       208\n",
       "6.0       108\n",
       "11.0       45\n",
       "12.0       16\n",
       "Name: STAT_CAUSE_CODE, dtype: int64"
      ]
     },
     "execution_count": 43,
     "metadata": {},
     "output_type": "execute_result"
    }
   ],
   "source": [
    "wildfires['STAT_CAUSE_CODE'].value_counts()"
   ]
  },
  {
   "cell_type": "markdown",
   "id": "c9545f7b",
   "metadata": {},
   "source": [
    "#### This column is the code indetifier for the cause, so duplicate information will be given. This column can be dropped."
   ]
  },
  {
   "cell_type": "code",
   "execution_count": 44,
   "id": "d5c62d94",
   "metadata": {},
   "outputs": [],
   "source": [
    "wildfires.drop(\"STAT_CAUSE_CODE\", axis=1, inplace=True)"
   ]
  },
  {
   "cell_type": "markdown",
   "id": "e0188ca4",
   "metadata": {},
   "source": [
    "### \"STAT_CAUSE_DESCR\""
   ]
  },
  {
   "cell_type": "code",
   "execution_count": 45,
   "id": "34891807",
   "metadata": {},
   "outputs": [
    {
     "data": {
      "text/plain": [
       "Lightning            19945\n",
       "Miscellaneous         4660\n",
       "Missing/Undefined     3113\n",
       "Campfire              2953\n",
       "Arson                  844\n",
       "Smoking                766\n",
       "Debris Burning         708\n",
       "Equipment Use          547\n",
       "Fireworks              244\n",
       "Children               208\n",
       "Railroad               108\n",
       "Powerline               45\n",
       "Structure               16\n",
       "Name: STAT_CAUSE_DESCR, dtype: int64"
      ]
     },
     "execution_count": 45,
     "metadata": {},
     "output_type": "execute_result"
    }
   ],
   "source": [
    "wildfires['STAT_CAUSE_DESCR'].value_counts()"
   ]
  },
  {
   "cell_type": "code",
   "execution_count": 46,
   "id": "7665214f",
   "metadata": {},
   "outputs": [
    {
     "data": {
      "text/plain": [
       "<AxesSubplot:xlabel='STAT_CAUSE_DESCR', ylabel='count'>"
      ]
     },
     "execution_count": 46,
     "metadata": {},
     "output_type": "execute_result"
    },
    {
     "data": {
      "image/png": "[encoded data removed]",
      "text/plain": [
       "<Figure size 432x288 with 1 Axes>"
      ]
     },
     "metadata": {
      "needs_background": "light"
     },
     "output_type": "display_data"
    }
   ],
   "source": [
    "sns.countplot(x = 'STAT_CAUSE_DESCR', data=wildfires)"
   ]
  },
  {
   "cell_type": "markdown",
   "id": "5822cb6f",
   "metadata": {},
   "source": [
    "#### Merge categories other than lightning into one category"
   ]
  },
  {
   "cell_type": "code",
   "execution_count": 47,
   "id": "79913810",
   "metadata": {},
   "outputs": [],
   "source": [
    "categories_to_merge = [category for category in set(wildfires['STAT_CAUSE_DESCR'].values) \n",
    "                       if category != \"Lightning\"]\n",
    "\n",
    "wildfires['STAT_CAUSE_DESCR'].replace(categories_to_merge, 'Miscellaneous', inplace=True)"
   ]
  },
  {
   "cell_type": "code",
   "execution_count": 48,
   "id": "3e42487c",
   "metadata": {},
   "outputs": [
    {
     "data": {
      "text/plain": [
       "Lightning        19945\n",
       "Miscellaneous    14212\n",
       "Name: STAT_CAUSE_DESCR, dtype: int64"
      ]
     },
     "execution_count": 48,
     "metadata": {},
     "output_type": "execute_result"
    }
   ],
   "source": [
    "wildfires['STAT_CAUSE_DESCR'].value_counts()"
   ]
  },
  {
   "cell_type": "markdown",
   "id": "37eaec27",
   "metadata": {},
   "source": [
    "### \"CONT_DATE\""
   ]
  },
  {
   "cell_type": "code",
   "execution_count": 49,
   "id": "b6ca08c9",
   "metadata": {},
   "outputs": [
    {
     "data": {
      "text/plain": [
       "2450647.5    61\n",
       "2453918.5    53\n",
       "2453201.5    52\n",
       "2452807.5    50\n",
       "2453917.5    48\n",
       "             ..\n",
       "2455316.5     1\n",
       "2455510.5     1\n",
       "2450615.5     1\n",
       "2455199.5     1\n",
       "2457070.5     1\n",
       "Name: CONT_DATE, Length: 4651, dtype: int64"
      ]
     },
     "execution_count": 49,
     "metadata": {},
     "output_type": "execute_result"
    }
   ],
   "source": [
    "wildfires['CONT_DATE'].value_counts()"
   ]
  },
  {
   "cell_type": "code",
   "execution_count": 50,
   "id": "070acc28",
   "metadata": {},
   "outputs": [
    {
     "name": "stdout",
     "output_type": "stream",
     "text": [
      "There are 5832 missing values. Fill in with most common one.\n"
     ]
    }
   ],
   "source": [
    "print(f\"There are {wildfires['CONT_DATE'].isnull().sum(axis=0)} missing values. Fill in with most common one.\")"
   ]
  },
  {
   "cell_type": "code",
   "execution_count": 51,
   "id": "5751fc99",
   "metadata": {},
   "outputs": [],
   "source": [
    "wildfires['CONT_DATE'] = wildfires['CONT_DATE'].apply(lambda date: 2450647.5 if np.isnan(date) else date)"
   ]
  },
  {
   "cell_type": "markdown",
   "id": "7eb73da9",
   "metadata": {},
   "source": [
    "### \"CONT_DOY\""
   ]
  },
  {
   "cell_type": "code",
   "execution_count": 52,
   "id": "a1d79070",
   "metadata": {},
   "outputs": [
    {
     "data": {
      "text/plain": [
       "206.0    366\n",
       "205.0    365\n",
       "185.0    356\n",
       "186.0    346\n",
       "199.0    345\n",
       "        ... \n",
       "360.0      1\n",
       "353.0      1\n",
       "359.0      1\n",
       "361.0      1\n",
       "342.0      1\n",
       "Name: CONT_DOY, Length: 362, dtype: int64"
      ]
     },
     "execution_count": 52,
     "metadata": {},
     "output_type": "execute_result"
    }
   ],
   "source": [
    "wildfires['CONT_DOY'].value_counts()"
   ]
  },
  {
   "cell_type": "code",
   "execution_count": 53,
   "id": "03de034c",
   "metadata": {},
   "outputs": [
    {
     "name": "stdout",
     "output_type": "stream",
     "text": [
      "There are 5832 missing values. Fill in with most common one.\n"
     ]
    }
   ],
   "source": [
    "print(f\"There are {wildfires['CONT_DOY'].isnull().sum(axis=0)} missing values. Fill in with most common one.\")"
   ]
  },
  {
   "cell_type": "code",
   "execution_count": 54,
   "id": "f57976ee",
   "metadata": {},
   "outputs": [],
   "source": [
    "wildfires['CONT_DOY'] = wildfires['CONT_DOY'].apply(lambda day: 2450647.5 if np.isnan(day) else day)"
   ]
  },
  {
   "cell_type": "markdown",
   "id": "1c77000f",
   "metadata": {},
   "source": [
    "### \"CONT_TIME\""
   ]
  },
  {
   "cell_type": "code",
   "execution_count": 55,
   "id": "24974ba9",
   "metadata": {},
   "outputs": [
    {
     "data": {
      "text/plain": [
       "1800    1712\n",
       "1200    1210\n",
       "2000    1117\n",
       "1700     769\n",
       "1600     766\n",
       "        ... \n",
       "0324       1\n",
       "0345       1\n",
       "0732       1\n",
       "0503       1\n",
       "0119       1\n",
       "Name: CONT_TIME, Length: 1175, dtype: int64"
      ]
     },
     "execution_count": 55,
     "metadata": {},
     "output_type": "execute_result"
    }
   ],
   "source": [
    "wildfires['CONT_TIME'].value_counts()"
   ]
  },
  {
   "cell_type": "code",
   "execution_count": 56,
   "id": "cd822bb3",
   "metadata": {},
   "outputs": [
    {
     "name": "stdout",
     "output_type": "stream",
     "text": [
      "There are 5992 missing values. Fill in with most common one.\n"
     ]
    }
   ],
   "source": [
    "print(f\"There are {wildfires['CONT_TIME'].isnull().sum(axis=0)} missing values. Fill in with most common one.\")"
   ]
  },
  {
   "cell_type": "markdown",
   "id": "0e47d80d",
   "metadata": {},
   "source": [
    "#### Change type of column data type from object/string to float"
   ]
  },
  {
   "cell_type": "code",
   "execution_count": 57,
   "id": "afaf4c7f",
   "metadata": {},
   "outputs": [],
   "source": [
    "wildfires[['CONT_TIME']] = wildfires[['CONT_TIME']].apply(pd.to_numeric)"
   ]
  },
  {
   "cell_type": "code",
   "execution_count": 58,
   "id": "2833c219",
   "metadata": {},
   "outputs": [],
   "source": [
    "wildfires['CONT_TIME'] = wildfires['CONT_TIME'].apply(lambda time: 1800 if np.isnan(time) else time)"
   ]
  },
  {
   "cell_type": "markdown",
   "id": "bcf60832",
   "metadata": {},
   "source": [
    "### \"FIRE_SIZE\""
   ]
  },
  {
   "cell_type": "code",
   "execution_count": 59,
   "id": "0dcf3baa",
   "metadata": {},
   "outputs": [
    {
     "data": {
      "text/plain": [
       "0.1        22644\n",
       "0.3         1479\n",
       "1.0         1431\n",
       "0.5         1371\n",
       "0.2         1271\n",
       "           ...  \n",
       "11032.0        1\n",
       "747.0          1\n",
       "661.9          1\n",
       "1589.0         1\n",
       "11699.0        1\n",
       "Name: FIRE_SIZE, Length: 855, dtype: int64"
      ]
     },
     "execution_count": 59,
     "metadata": {},
     "output_type": "execute_result"
    }
   ],
   "source": [
    "wildfires['FIRE_SIZE'].value_counts()"
   ]
  },
  {
   "cell_type": "code",
   "execution_count": 60,
   "id": "48454695",
   "metadata": {},
   "outputs": [
    {
     "name": "stderr",
     "output_type": "stream",
     "text": [
      "/Users/aoadmin/opt/anaconda3/lib/python3.9/site-packages/seaborn/distributions.py:2619: FutureWarning: `distplot` is a deprecated function and will be removed in a future version. Please adapt your code to use either `displot` (a figure-level function with similar flexibility) or `histplot` (an axes-level function for histograms).\n",
      "  warnings.warn(msg, FutureWarning)\n"
     ]
    },
    {
     "data": {
      "text/plain": [
       "<AxesSubplot:xlabel='FIRE_SIZE', ylabel='Density'>"
      ]
     },
     "execution_count": 60,
     "metadata": {},
     "output_type": "execute_result"
    },
    {
     "data": {
      "image/png": "[encoded data removed]",
      "text/plain": [
       "<Figure size 432x288 with 1 Axes>"
      ]
     },
     "metadata": {
      "needs_background": "light"
     },
     "output_type": "display_data"
    }
   ],
   "source": [
    "sns.distplot(wildfires['FIRE_SIZE'])"
   ]
  },
  {
   "cell_type": "code",
   "execution_count": 61,
   "id": "c2d5117d",
   "metadata": {},
   "outputs": [
    {
     "data": {
      "text/plain": [
       "<AxesSubplot:xlabel='FIRE_SIZE'>"
      ]
     },
     "execution_count": 61,
     "metadata": {},
     "output_type": "execute_result"
    },
    {
     "data": {
      "image/png": "[encoded data removed]",
      "text/plain": [
       "<Figure size 432x288 with 1 Axes>"
      ]
     },
     "metadata": {
      "needs_background": "light"
     },
     "output_type": "display_data"
    }
   ],
   "source": [
    "sns.boxplot(x = wildfires['FIRE_SIZE'])"
   ]
  },
  {
   "cell_type": "markdown",
   "id": "c1a24468",
   "metadata": {},
   "source": [
    "#### Distribution looks very skewed with evident outliers. Column also focuses on area covered by fire in ters of size and not location. Therefore, this column could be used more as a depedent variable than independent variable."
   ]
  },
  {
   "cell_type": "code",
   "execution_count": 62,
   "id": "d1b36115",
   "metadata": {},
   "outputs": [],
   "source": [
    "wildfires.drop(\"FIRE_SIZE\", axis=1, inplace=True)"
   ]
  },
  {
   "cell_type": "markdown",
   "id": "1048cc67",
   "metadata": {},
   "source": [
    "### \"FIRE_SIZE_CLASS\""
   ]
  },
  {
   "cell_type": "markdown",
   "id": "97206ed1",
   "metadata": {},
   "source": [
    "#### This class could be better used to avoid outliers and still get idea of fire size."
   ]
  },
  {
   "cell_type": "code",
   "execution_count": 63,
   "id": "e8562222",
   "metadata": {},
   "outputs": [
    {
     "data": {
      "text/plain": [
       "A    24413\n",
       "B     7495\n",
       "C     1387\n",
       "D      362\n",
       "E      271\n",
       "F      161\n",
       "G       68\n",
       "Name: FIRE_SIZE_CLASS, dtype: int64"
      ]
     },
     "execution_count": 63,
     "metadata": {},
     "output_type": "execute_result"
    }
   ],
   "source": [
    "wildfires['FIRE_SIZE_CLASS'].value_counts()"
   ]
  },
  {
   "cell_type": "code",
   "execution_count": 64,
   "id": "234efcca",
   "metadata": {},
   "outputs": [
    {
     "data": {
      "text/plain": [
       "<AxesSubplot:xlabel='FIRE_SIZE_CLASS', ylabel='count'>"
      ]
     },
     "execution_count": 64,
     "metadata": {},
     "output_type": "execute_result"
    },
    {
     "data": {
      "image/png": "[encoded data removed]",
      "text/plain": [
       "<Figure size 432x288 with 1 Axes>"
      ]
     },
     "metadata": {
      "needs_background": "light"
     },
     "output_type": "display_data"
    }
   ],
   "source": [
    "sns.countplot(x = 'FIRE_SIZE_CLASS', data=wildfires)"
   ]
  },
  {
   "cell_type": "markdown",
   "id": "33ebc48c",
   "metadata": {},
   "source": [
    "### Merge other classes that are not the most common A class for better distribution in this column."
   ]
  },
  {
   "cell_type": "code",
   "execution_count": 65,
   "id": "40e6394b",
   "metadata": {},
   "outputs": [],
   "source": [
    "other_fire_size_classes = [fire_size_class for fire_size_class in set(wildfires['FIRE_SIZE_CLASS'].values)\n",
    "                           if fire_size_class != \"A\"]\n",
    "\n",
    "wildfires['FIRE_SIZE_CLASS'].replace(other_fire_size_classes, 'Other', inplace=True)"
   ]
  },
  {
   "cell_type": "code",
   "execution_count": 66,
   "id": "2e5a0d8b",
   "metadata": {},
   "outputs": [
    {
     "data": {
      "text/plain": [
       "<AxesSubplot:xlabel='FIRE_SIZE_CLASS', ylabel='count'>"
      ]
     },
     "execution_count": 66,
     "metadata": {},
     "output_type": "execute_result"
    },
    {
     "data": {
      "image/png": "[encoded data removed]",
      "text/plain": [
       "<Figure size 432x288 with 1 Axes>"
      ]
     },
     "metadata": {
      "needs_background": "light"
     },
     "output_type": "display_data"
    }
   ],
   "source": [
    "sns.countplot(x = 'FIRE_SIZE_CLASS', data=wildfires)"
   ]
  },
  {
   "cell_type": "markdown",
   "id": "ac0349af",
   "metadata": {},
   "source": [
    "### \"LATITUDE\""
   ]
  },
  {
   "cell_type": "code",
   "execution_count": 67,
   "id": "31a6814c",
   "metadata": {},
   "outputs": [
    {
     "data": {
      "text/plain": [
       "39.8666    73\n",
       "40.0997    68\n",
       "39.8833    67\n",
       "39.6000    65\n",
       "39.9500    64\n",
       "           ..\n",
       "39.2633     1\n",
       "39.3608     1\n",
       "39.6305     1\n",
       "39.6441     1\n",
       "40.8198     1\n",
       "Name: LATITUDE, Length: 18007, dtype: int64"
      ]
     },
     "execution_count": 67,
     "metadata": {},
     "output_type": "execute_result"
    }
   ],
   "source": [
    "wildfires['LATITUDE'].value_counts()"
   ]
  },
  {
   "cell_type": "code",
   "execution_count": 68,
   "id": "c05337cf",
   "metadata": {},
   "outputs": [
    {
     "name": "stderr",
     "output_type": "stream",
     "text": [
      "/Users/aoadmin/opt/anaconda3/lib/python3.9/site-packages/seaborn/distributions.py:2619: FutureWarning: `distplot` is a deprecated function and will be removed in a future version. Please adapt your code to use either `displot` (a figure-level function with similar flexibility) or `histplot` (an axes-level function for histograms).\n",
      "  warnings.warn(msg, FutureWarning)\n"
     ]
    },
    {
     "data": {
      "text/plain": [
       "<AxesSubplot:xlabel='LATITUDE', ylabel='Density'>"
      ]
     },
     "execution_count": 68,
     "metadata": {},
     "output_type": "execute_result"
    },
    {
     "data": {
      "image/png": "[encoded data removed]",
      "text/plain": [
       "<Figure size 432x288 with 1 Axes>"
      ]
     },
     "metadata": {
      "needs_background": "light"
     },
     "output_type": "display_data"
    }
   ],
   "source": [
    "sns.distplot(wildfires['LATITUDE'])"
   ]
  },
  {
   "cell_type": "code",
   "execution_count": 69,
   "id": "3904460c",
   "metadata": {},
   "outputs": [
    {
     "data": {
      "text/plain": [
       "<AxesSubplot:xlabel='LATITUDE'>"
      ]
     },
     "execution_count": 69,
     "metadata": {},
     "output_type": "execute_result"
    },
    {
     "data": {
      "image/png": "[encoded data removed]",
      "text/plain": [
       "<Figure size 432x288 with 1 Axes>"
      ]
     },
     "metadata": {
      "needs_background": "light"
     },
     "output_type": "display_data"
    }
   ],
   "source": [
    "sns.boxplot(x = wildfires['LATITUDE'])"
   ]
  },
  {
   "cell_type": "markdown",
   "id": "c5f3cd5d",
   "metadata": {},
   "source": [
    "#### No outliers, missing values, or problems with distribution."
   ]
  },
  {
   "cell_type": "markdown",
   "id": "3f4c931a",
   "metadata": {},
   "source": [
    "### \"LONGITUDE\""
   ]
  },
  {
   "cell_type": "code",
   "execution_count": 70,
   "id": "396cd2bc",
   "metadata": {},
   "outputs": [
    {
     "data": {
      "text/plain": [
       "-108.48400    78\n",
       "-104.80650    71\n",
       "-108.41730    69\n",
       "-108.38400    66\n",
       "-108.36730    65\n",
       "              ..\n",
       "-107.91840     1\n",
       "-107.54192     1\n",
       "-108.08420     1\n",
       "-107.54010     1\n",
       "-105.08470     1\n",
       "Name: LONGITUDE, Length: 19449, dtype: int64"
      ]
     },
     "execution_count": 70,
     "metadata": {},
     "output_type": "execute_result"
    }
   ],
   "source": [
    "wildfires['LONGITUDE'].value_counts()"
   ]
  },
  {
   "cell_type": "code",
   "execution_count": 71,
   "id": "920cbdea",
   "metadata": {},
   "outputs": [
    {
     "name": "stderr",
     "output_type": "stream",
     "text": [
      "/Users/aoadmin/opt/anaconda3/lib/python3.9/site-packages/seaborn/distributions.py:2619: FutureWarning: `distplot` is a deprecated function and will be removed in a future version. Please adapt your code to use either `displot` (a figure-level function with similar flexibility) or `histplot` (an axes-level function for histograms).\n",
      "  warnings.warn(msg, FutureWarning)\n"
     ]
    },
    {
     "data": {
      "text/plain": [
       "<AxesSubplot:xlabel='LONGITUDE', ylabel='Density'>"
      ]
     },
     "execution_count": 71,
     "metadata": {},
     "output_type": "execute_result"
    },
    {
     "data": {
      "image/png": "[encoded data removed]",
      "text/plain": [
       "<Figure size 432x288 with 1 Axes>"
      ]
     },
     "metadata": {
      "needs_background": "light"
     },
     "output_type": "display_data"
    }
   ],
   "source": [
    "sns.distplot(wildfires['LONGITUDE'])"
   ]
  },
  {
   "cell_type": "code",
   "execution_count": 72,
   "id": "5bcaf232",
   "metadata": {},
   "outputs": [
    {
     "data": {
      "text/plain": [
       "<AxesSubplot:xlabel='LONGITUDE'>"
      ]
     },
     "execution_count": 72,
     "metadata": {},
     "output_type": "execute_result"
    },
    {
     "data": {
      "image/png": "[encoded data removed]",
      "text/plain": [
       "<Figure size 432x288 with 1 Axes>"
      ]
     },
     "metadata": {
      "needs_background": "light"
     },
     "output_type": "display_data"
    }
   ],
   "source": [
    "sns.boxplot(x = wildfires['LONGITUDE'])"
   ]
  },
  {
   "cell_type": "markdown",
   "id": "47770ff9",
   "metadata": {},
   "source": [
    "#### No outliers, missing values, or problems with distribution."
   ]
  },
  {
   "cell_type": "markdown",
   "id": "2b54f161",
   "metadata": {},
   "source": [
    "### \"OWNER_CODE\""
   ]
  },
  {
   "cell_type": "code",
   "execution_count": 73,
   "id": "5bafc3c4",
   "metadata": {},
   "outputs": [
    {
     "data": {
      "text/plain": [
       "1.0     10582\n",
       "14.0     9320\n",
       "5.0      8176\n",
       "2.0      2784\n",
       "8.0      1624\n",
       "3.0       999\n",
       "13.0      245\n",
       "7.0       198\n",
       "6.0        78\n",
       "4.0        72\n",
       "11.0       45\n",
       "12.0       15\n",
       "9.0        13\n",
       "15.0        5\n",
       "10.0        1\n",
       "Name: OWNER_CODE, dtype: int64"
      ]
     },
     "execution_count": 73,
     "metadata": {},
     "output_type": "execute_result"
    }
   ],
   "source": [
    "wildfires['OWNER_CODE'].value_counts()"
   ]
  },
  {
   "cell_type": "code",
   "execution_count": 74,
   "id": "a23597ec",
   "metadata": {},
   "outputs": [
    {
     "data": {
      "text/plain": [
       "<AxesSubplot:xlabel='OWNER_CODE', ylabel='count'>"
      ]
     },
     "execution_count": 74,
     "metadata": {},
     "output_type": "execute_result"
    },
    {
     "data": {
      "image/png": "[encoded data removed]",
      "text/plain": [
       "<Figure size 432x288 with 1 Axes>"
      ]
     },
     "metadata": {
      "needs_background": "light"
     },
     "output_type": "display_data"
    }
   ],
   "source": [
    "sns.countplot(x = 'OWNER_CODE', data=wildfires)"
   ]
  },
  {
   "cell_type": "code",
   "execution_count": 75,
   "id": "1b571528",
   "metadata": {},
   "outputs": [
    {
     "data": {
      "text/plain": [
       "<AxesSubplot:xlabel='OWNER_CODE'>"
      ]
     },
     "execution_count": 75,
     "metadata": {},
     "output_type": "execute_result"
    },
    {
     "data": {
      "image/png": "[encoded data removed]",
      "text/plain": [
       "<Figure size 432x288 with 1 Axes>"
      ]
     },
     "metadata": {
      "needs_background": "light"
     },
     "output_type": "display_data"
    }
   ],
   "source": [
    "sns.boxplot(x = wildfires['OWNER_CODE'])"
   ]
  },
  {
   "cell_type": "markdown",
   "id": "b55f4f8b",
   "metadata": {},
   "source": [
    "#### No outliers, missing values, or problems with distribution."
   ]
  },
  {
   "cell_type": "markdown",
   "id": "16fb78f4",
   "metadata": {},
   "source": [
    "### \"COUNTY\""
   ]
  },
  {
   "cell_type": "markdown",
   "id": "fb5b5b6a",
   "metadata": {},
   "source": [
    "#### County is the same information as FIPS code, so will drop this column."
   ]
  },
  {
   "cell_type": "code",
   "execution_count": 76,
   "id": "9f96aaac",
   "metadata": {},
   "outputs": [],
   "source": [
    "wildfires.drop(\"COUNTY\", axis=1, inplace=True)"
   ]
  },
  {
   "cell_type": "markdown",
   "id": "202a3a44",
   "metadata": {},
   "source": [
    "### \"FIPS_CODE\""
   ]
  },
  {
   "cell_type": "markdown",
   "id": "0465eaf8",
   "metadata": {},
   "source": [
    "### This is the independent variable!"
   ]
  },
  {
   "cell_type": "code",
   "execution_count": 77,
   "id": "66c09422",
   "metadata": {},
   "outputs": [
    {
     "data": {
      "text/plain": [
       "103    1901\n",
       "081    1609\n",
       "077    1586\n",
       "045    1209\n",
       "085    1083\n",
       "       ... \n",
       "095       6\n",
       "115       3\n",
       "073       2\n",
       "023       1\n",
       "031       1\n",
       "Name: FIPS_CODE, Length: 63, dtype: int64"
      ]
     },
     "execution_count": 77,
     "metadata": {},
     "output_type": "execute_result"
    }
   ],
   "source": [
    "wildfires['FIPS_CODE'].value_counts()"
   ]
  },
  {
   "cell_type": "code",
   "execution_count": 78,
   "id": "cd33eec4",
   "metadata": {},
   "outputs": [
    {
     "data": {
      "text/plain": [
       "<AxesSubplot:xlabel='FIPS_CODE', ylabel='count'>"
      ]
     },
     "execution_count": 78,
     "metadata": {},
     "output_type": "execute_result"
    },
    {
     "data": {
      "image/png": "[encoded data removed]",
      "text/plain": [
       "<Figure size 432x288 with 1 Axes>"
      ]
     },
     "metadata": {
      "needs_background": "light"
     },
     "output_type": "display_data"
    }
   ],
   "source": [
    "sns.countplot(x = 'FIPS_CODE', data=wildfires)"
   ]
  },
  {
   "cell_type": "markdown",
   "id": "46cf552a",
   "metadata": {},
   "source": [
    "#### Looks fairly distributed, so will only handle missing values."
   ]
  },
  {
   "cell_type": "code",
   "execution_count": 79,
   "id": "373bc38f",
   "metadata": {},
   "outputs": [
    {
     "name": "stdout",
     "output_type": "stream",
     "text": [
      "There are 14810 missing values.\n"
     ]
    }
   ],
   "source": [
    "print(f\"There are {wildfires['FIPS_CODE'].isnull().sum(axis=0)} missing values.\")"
   ]
  },
  {
   "cell_type": "code",
   "execution_count": 80,
   "id": "5a9734c8",
   "metadata": {},
   "outputs": [
    {
     "name": "stdout",
     "output_type": "stream",
     "text": [
      "0.43 of the dataset has missing FIPS code value.\n"
     ]
    }
   ],
   "source": [
    "print(f\"{round(wildfires['FIPS_CODE'].isnull().sum(axis=0) / wildfires.shape[0], 2)} of the dataset has missing FIPS code value.\")"
   ]
  },
  {
   "cell_type": "markdown",
   "id": "cda22ddb",
   "metadata": {},
   "source": [
    "#### If we don't know the independent variable value, then it is not helpful for the supervised models to fit which is a big cut in this case. We will be cutting the rows from the dataset, but a more complicated approach can be taken. It is to use the latitudes and longitudes to get the geolocation of the county and thus the FIPS code. This will be discussed internally within the group to see if time and knowledge constraints allow this approach."
   ]
  },
  {
   "cell_type": "code",
   "execution_count": 81,
   "id": "ad1def58",
   "metadata": {},
   "outputs": [
    {
     "name": "stdout",
     "output_type": "stream",
     "text": [
      "Rows 34157 X Columns 14 before.\n"
     ]
    }
   ],
   "source": [
    "print(f\"Rows {wildfires.shape[0]} X Columns {wildfires.shape[1]} before.\")"
   ]
  },
  {
   "cell_type": "code",
   "execution_count": 82,
   "id": "7283e4fd",
   "metadata": {},
   "outputs": [],
   "source": [
    "wildfires.dropna(subset=['FIPS_CODE'], inplace=True)"
   ]
  },
  {
   "cell_type": "code",
   "execution_count": 83,
   "id": "d62d348c",
   "metadata": {},
   "outputs": [
    {
     "name": "stdout",
     "output_type": "stream",
     "text": [
      "Rows 19347 X Columns 14 after.\n"
     ]
    }
   ],
   "source": [
    "print(f\"Rows {wildfires.shape[0]} X Columns {wildfires.shape[1]} after.\")"
   ]
  },
  {
   "cell_type": "code",
   "execution_count": 84,
   "id": "8b84d143",
   "metadata": {},
   "outputs": [],
   "source": [
    "wildfires[['FIPS_CODE']] = wildfires[['FIPS_CODE']].apply(pd.to_numeric)"
   ]
  },
  {
   "cell_type": "markdown",
   "id": "9d276f92",
   "metadata": {},
   "source": [
    "### \"FIPS_NAME\""
   ]
  },
  {
   "cell_type": "markdown",
   "id": "480db369",
   "metadata": {},
   "source": [
    "#### This column has the actual name of the county that the FIPS code refers to. Therefore, this column is duplicate information, but can be used to get a human-readable name."
   ]
  },
  {
   "cell_type": "code",
   "execution_count": 85,
   "id": "d54fb492",
   "metadata": {},
   "outputs": [],
   "source": [
    "fips_names = wildfires[\"FIPS_NAME\"].copy()"
   ]
  },
  {
   "cell_type": "code",
   "execution_count": 86,
   "id": "8eab155c",
   "metadata": {},
   "outputs": [],
   "source": [
    "wildfires.drop(\"FIPS_NAME\", axis=1, inplace=True)"
   ]
  },
  {
   "cell_type": "markdown",
   "id": "1a7be859",
   "metadata": {},
   "source": [
    "### Creating dummy variables for categorical variables"
   ]
  },
  {
   "cell_type": "code",
   "execution_count": 87,
   "id": "0c9f34ba",
   "metadata": {},
   "outputs": [],
   "source": [
    "dummy_columns_labels = ['STAT_CAUSE_DESCR', 'FIRE_SIZE_CLASS']\n",
    "dummy_columns = pd.get_dummies(wildfires[dummy_columns_labels], drop_first=True)"
   ]
  },
  {
   "cell_type": "code",
   "execution_count": 88,
   "id": "34991e37",
   "metadata": {},
   "outputs": [],
   "source": [
    "wildfires = pd.concat([wildfires, dummy_columns], axis=1)"
   ]
  },
  {
   "cell_type": "code",
   "execution_count": 89,
   "id": "3baa5134",
   "metadata": {},
   "outputs": [],
   "source": [
    "wildfires.drop(dummy_columns_labels, axis=1, inplace=True)"
   ]
  },
  {
   "cell_type": "markdown",
   "id": "a93ed95e",
   "metadata": {},
   "source": [
    "### Display data one last time"
   ]
  },
  {
   "cell_type": "code",
   "execution_count": 90,
   "id": "bdfdc65a",
   "metadata": {},
   "outputs": [
    {
     "name": "stdout",
     "output_type": "stream",
     "text": [
      "<class 'pandas.core.frame.DataFrame'>\n",
      "Int64Index: 19347 entries, 1037 to 1860054\n",
      "Data columns (total 13 columns):\n",
      " #   Column                          Non-Null Count  Dtype  \n",
      "---  ------                          --------------  -----  \n",
      " 0   FIRE_YEAR                       19347 non-null  int64  \n",
      " 1   DISCOVERY_DATE                  19347 non-null  float64\n",
      " 2   DISCOVERY_DOY                   19347 non-null  int64  \n",
      " 3   DISCOVERY_TIME                  19347 non-null  float64\n",
      " 4   CONT_DATE                       19347 non-null  float64\n",
      " 5   CONT_DOY                        19347 non-null  float64\n",
      " 6   CONT_TIME                       19347 non-null  float64\n",
      " 7   LATITUDE                        19347 non-null  float64\n",
      " 8   LONGITUDE                       19347 non-null  float64\n",
      " 9   OWNER_CODE                      19347 non-null  float64\n",
      " 10  FIPS_CODE                       19347 non-null  int64  \n",
      " 11  STAT_CAUSE_DESCR_Miscellaneous  19347 non-null  uint8  \n",
      " 12  FIRE_SIZE_CLASS_Other           19347 non-null  uint8  \n",
      "dtypes: float64(8), int64(3), uint8(2)\n",
      "memory usage: 1.8 MB\n"
     ]
    }
   ],
   "source": [
    "wildfires.info()"
   ]
  },
  {
   "cell_type": "code",
   "execution_count": 91,
   "id": "71bb75e0",
   "metadata": {},
   "outputs": [
    {
     "data": {
      "text/plain": [
       "FIRE_YEAR                         0.0\n",
       "DISCOVERY_DATE                    0.0\n",
       "DISCOVERY_DOY                     0.0\n",
       "DISCOVERY_TIME                    0.0\n",
       "CONT_DATE                         0.0\n",
       "CONT_DOY                          0.0\n",
       "CONT_TIME                         0.0\n",
       "LATITUDE                          0.0\n",
       "LONGITUDE                         0.0\n",
       "OWNER_CODE                        0.0\n",
       "FIPS_CODE                         0.0\n",
       "STAT_CAUSE_DESCR_Miscellaneous    0.0\n",
       "FIRE_SIZE_CLASS_Other             0.0\n",
       "dtype: float64"
      ]
     },
     "execution_count": 91,
     "metadata": {},
     "output_type": "execute_result"
    }
   ],
   "source": [
    "round((wildfires.isnull().sum(axis = 0)/len(wildfires.index))*100 , 2)"
   ]
  },
  {
   "cell_type": "code",
   "execution_count": 92,
   "id": "9f21c429",
   "metadata": {},
   "outputs": [
    {
     "data": {
      "text/html": [
       "<div>\n",
       "<style scoped>\n",
       "    .dataframe tbody tr th:only-of-type {\n",
       "        vertical-align: middle;\n",
       "    }\n",
       "\n",
       "    .dataframe tbody tr th {\n",
       "        vertical-align: top;\n",
       "    }\n",
       "\n",
       "    .dataframe thead th {\n",
       "        text-align: right;\n",
       "    }\n",
       "</style>\n",
       "<table border=\"1\" class=\"dataframe\">\n",
       "  <thead>\n",
       "    <tr style=\"text-align: right;\">\n",
       "      <th></th>\n",
       "      <th>FIRE_YEAR</th>\n",
       "      <th>DISCOVERY_DATE</th>\n",
       "      <th>DISCOVERY_DOY</th>\n",
       "      <th>DISCOVERY_TIME</th>\n",
       "      <th>CONT_DATE</th>\n",
       "      <th>CONT_DOY</th>\n",
       "      <th>CONT_TIME</th>\n",
       "      <th>LATITUDE</th>\n",
       "      <th>LONGITUDE</th>\n",
       "      <th>OWNER_CODE</th>\n",
       "      <th>FIPS_CODE</th>\n",
       "      <th>STAT_CAUSE_DESCR_Miscellaneous</th>\n",
       "      <th>FIRE_SIZE_CLASS_Other</th>\n",
       "    </tr>\n",
       "  </thead>\n",
       "  <tbody>\n",
       "    <tr>\n",
       "      <th>1037</th>\n",
       "      <td>2005</td>\n",
       "      <td>2453428.5</td>\n",
       "      <td>58</td>\n",
       "      <td>1600.0</td>\n",
       "      <td>2453429.5</td>\n",
       "      <td>59.0</td>\n",
       "      <td>1300.0</td>\n",
       "      <td>37.720833</td>\n",
       "      <td>-106.698611</td>\n",
       "      <td>5.0</td>\n",
       "      <td>105</td>\n",
       "      <td>1</td>\n",
       "      <td>0</td>\n",
       "    </tr>\n",
       "    <tr>\n",
       "      <th>2171</th>\n",
       "      <td>2005</td>\n",
       "      <td>2453598.5</td>\n",
       "      <td>228</td>\n",
       "      <td>1730.0</td>\n",
       "      <td>2453598.5</td>\n",
       "      <td>228.0</td>\n",
       "      <td>2006.0</td>\n",
       "      <td>39.081944</td>\n",
       "      <td>-104.894722</td>\n",
       "      <td>5.0</td>\n",
       "      <td>41</td>\n",
       "      <td>0</td>\n",
       "      <td>0</td>\n",
       "    </tr>\n",
       "    <tr>\n",
       "      <th>2366</th>\n",
       "      <td>2005</td>\n",
       "      <td>2453582.5</td>\n",
       "      <td>212</td>\n",
       "      <td>1830.0</td>\n",
       "      <td>2453583.5</td>\n",
       "      <td>213.0</td>\n",
       "      <td>1400.0</td>\n",
       "      <td>40.580833</td>\n",
       "      <td>-106.602222</td>\n",
       "      <td>5.0</td>\n",
       "      <td>57</td>\n",
       "      <td>0</td>\n",
       "      <td>0</td>\n",
       "    </tr>\n",
       "    <tr>\n",
       "      <th>2799</th>\n",
       "      <td>2005</td>\n",
       "      <td>2453508.5</td>\n",
       "      <td>138</td>\n",
       "      <td>1500.0</td>\n",
       "      <td>2453508.5</td>\n",
       "      <td>138.0</td>\n",
       "      <td>1557.0</td>\n",
       "      <td>37.155833</td>\n",
       "      <td>-107.091667</td>\n",
       "      <td>5.0</td>\n",
       "      <td>7</td>\n",
       "      <td>1</td>\n",
       "      <td>0</td>\n",
       "    </tr>\n",
       "    <tr>\n",
       "      <th>2815</th>\n",
       "      <td>2005</td>\n",
       "      <td>2453524.5</td>\n",
       "      <td>154</td>\n",
       "      <td>1830.0</td>\n",
       "      <td>2453526.5</td>\n",
       "      <td>156.0</td>\n",
       "      <td>1630.0</td>\n",
       "      <td>37.466111</td>\n",
       "      <td>-107.878056</td>\n",
       "      <td>5.0</td>\n",
       "      <td>67</td>\n",
       "      <td>0</td>\n",
       "      <td>1</td>\n",
       "    </tr>\n",
       "  </tbody>\n",
       "</table>\n",
       "</div>"
      ],
      "text/plain": [
       "      FIRE_YEAR  DISCOVERY_DATE  DISCOVERY_DOY  DISCOVERY_TIME  CONT_DATE  \\\n",
       "1037       2005       2453428.5             58          1600.0  2453429.5   \n",
       "2171       2005       2453598.5            228          1730.0  2453598.5   \n",
       "2366       2005       2453582.5            212          1830.0  2453583.5   \n",
       "2799       2005       2453508.5            138          1500.0  2453508.5   \n",
       "2815       2005       2453524.5            154          1830.0  2453526.5   \n",
       "\n",
       "      CONT_DOY  CONT_TIME   LATITUDE   LONGITUDE  OWNER_CODE  FIPS_CODE  \\\n",
       "1037      59.0     1300.0  37.720833 -106.698611         5.0        105   \n",
       "2171     228.0     2006.0  39.081944 -104.894722         5.0         41   \n",
       "2366     213.0     1400.0  40.580833 -106.602222         5.0         57   \n",
       "2799     138.0     1557.0  37.155833 -107.091667         5.0          7   \n",
       "2815     156.0     1630.0  37.466111 -107.878056         5.0         67   \n",
       "\n",
       "      STAT_CAUSE_DESCR_Miscellaneous  FIRE_SIZE_CLASS_Other  \n",
       "1037                               1                      0  \n",
       "2171                               0                      0  \n",
       "2366                               0                      0  \n",
       "2799                               1                      0  \n",
       "2815                               0                      1  "
      ]
     },
     "execution_count": 92,
     "metadata": {},
     "output_type": "execute_result"
    }
   ],
   "source": [
    "wildfires.head()"
   ]
  },
  {
   "cell_type": "markdown",
   "id": "7f10bc2a",
   "metadata": {},
   "source": [
    "#### In this case, the values for the first columns that were dropped for the dummy columns are: \n",
    "#### STAT_CAUSE_DESCR_Lightning and FIRE_SIZE_CLASS_A"
   ]
  },
  {
   "cell_type": "markdown",
   "id": "739914e1",
   "metadata": {},
   "source": [
    "## Create models"
   ]
  },
  {
   "cell_type": "markdown",
   "id": "89e5ddc5",
   "metadata": {},
   "source": [
    "### Determine Xs and Y"
   ]
  },
  {
   "cell_type": "code",
   "execution_count": 93,
   "id": "ad72e08d",
   "metadata": {},
   "outputs": [],
   "source": [
    "y = wildfires['FIPS_CODE']"
   ]
  },
  {
   "cell_type": "code",
   "execution_count": 94,
   "id": "e92f4d26",
   "metadata": {},
   "outputs": [],
   "source": [
    "X = wildfires.drop(['FIPS_CODE'], axis=1)"
   ]
  },
  {
   "cell_type": "markdown",
   "id": "3ca91359",
   "metadata": {},
   "source": [
    "### Partition Data"
   ]
  },
  {
   "cell_type": "code",
   "execution_count": 95,
   "id": "c92d5b18",
   "metadata": {},
   "outputs": [],
   "source": [
    "from sklearn.model_selection import train_test_split"
   ]
  },
  {
   "cell_type": "code",
   "execution_count": 96,
   "id": "e46293b4",
   "metadata": {},
   "outputs": [],
   "source": [
    "X_train, X_test, y_train, y_test = train_test_split(X, y, test_size=0.3, random_state=101)"
   ]
  },
  {
   "cell_type": "markdown",
   "id": "60df52e5",
   "metadata": {},
   "source": [
    "### Model 1: "
   ]
  },
  {
   "cell_type": "code",
   "execution_count": null,
   "id": "1d561eb7",
   "metadata": {},
   "outputs": [],
   "source": []
  }
 ],
 "metadata": {
  "kernelspec": {
   "display_name": "Python 3 (ipykernel)",
   "language": "python",
   "name": "python3"
  },
  "language_info": {
   "codemirror_mode": {
    "name": "ipython",
    "version": 3
   },
   "file_extension": ".py",
   "mimetype": "text/x-python",
   "name": "python",
   "nbconvert_exporter": "python",
   "pygments_lexer": "ipython3",
   "version": "3.9.12"
  }
 },
 "nbformat": 4,
 "nbformat_minor": 5
}
